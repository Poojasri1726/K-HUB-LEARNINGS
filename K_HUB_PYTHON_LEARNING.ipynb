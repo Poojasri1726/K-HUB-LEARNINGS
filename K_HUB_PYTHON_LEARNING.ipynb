{
  "nbformat": 4,
  "nbformat_minor": 0,
  "metadata": {
    "colab": {
      "provenance": [],
      "authorship_tag": "ABX9TyMc56g6FKuu15bDj9xaWJPT",
      "include_colab_link": true
    },
    "kernelspec": {
      "name": "python3",
      "display_name": "Python 3"
    },
    "language_info": {
      "name": "python"
    }
  },
  "cells": [
    {
      "cell_type": "markdown",
      "metadata": {
        "id": "view-in-github",
        "colab_type": "text"
      },
      "source": [
        "<a href=\"https://colab.research.google.com/github/Poojasri1726/K-HUB-LEARNINGS/blob/main/K_HUB_PYTHON_LEARNING.ipynb\" target=\"_parent\"><img src=\"https://colab.research.google.com/assets/colab-badge.svg\" alt=\"Open In Colab\"/></a>"
      ]
    },
    {
      "cell_type": "markdown",
      "source": [
        "K-HUB LEARNING DAY 1"
      ],
      "metadata": {
        "id": "noxhMUblCwzx"
      }
    },
    {
      "cell_type": "markdown",
      "source": [
        "          PYTHON"
      ],
      "metadata": {
        "id": "ltWvKcBrD0QK"
      }
    },
    {
      "cell_type": "markdown",
      "source": [
        "Python is a papular language. It is invented by GUIDO VAN ROSSUM in 19991.\n",
        "\n",
        "It is used for:\n",
        "* Web development\n",
        "* software devolpment\n",
        "* mathematcis\n"
      ],
      "metadata": {
        "id": "3rm1hQ9cD7Ge"
      }
    },
    {
      "cell_type": "markdown",
      "source": [
        "SYNTAX"
      ],
      "metadata": {
        "id": "Vp3-5DDKWhIY"
      }
    },
    {
      "cell_type": "code",
      "source": [
        "print(\"pooja sri\")"
      ],
      "metadata": {
        "colab": {
          "base_uri": "https://localhost:8080/"
        },
        "id": "Y8JKJfwtW8-t",
        "outputId": "3581dd2a-83f7-4b74-a058-6c89e3c2a038"
      },
      "execution_count": null,
      "outputs": [
        {
          "output_type": "stream",
          "name": "stdout",
          "text": [
            "pooja sri\n"
          ]
        }
      ]
    },
    {
      "cell_type": "markdown",
      "source": [
        "COMMENTS\n",
        "* Comments used to explain python code\n",
        "* it is start with \"#\""
      ],
      "metadata": {
        "id": "PlSUuvoQFJlI"
      }
    },
    {
      "cell_type": "code",
      "source": [
        "# This is a comment"
      ],
      "metadata": {
        "id": "fsJg98ucDyUP"
      },
      "execution_count": null,
      "outputs": []
    },
    {
      "cell_type": "markdown",
      "source": [
        "VARIABLES\n",
        "* Variables store date values"
      ],
      "metadata": {
        "id": "F_qN-DDxGlZg"
      }
    },
    {
      "cell_type": "code",
      "source": [
        "a = 3\n",
        "b = 5\n",
        "print(a)\n",
        "print (b)"
      ],
      "metadata": {
        "colab": {
          "base_uri": "https://localhost:8080/"
        },
        "id": "f6maqxn4G_Dq",
        "outputId": "58cee93c-583b-4bb6-ee7c-859ead279adc"
      },
      "execution_count": null,
      "outputs": [
        {
          "output_type": "stream",
          "name": "stdout",
          "text": [
            "3\n",
            "5\n"
          ]
        }
      ]
    },
    {
      "cell_type": "markdown",
      "source": [
        "DATA TYPES\n",
        "* INT - Stores numbers\n",
        "* FLOAT - Stores decimal values\n",
        "* CHAR -Stores text\n"
      ],
      "metadata": {
        "id": "jPnzoVOrHXeu"
      }
    },
    {
      "cell_type": "code",
      "source": [
        "x= 5\n",
        "print(type(x))"
      ],
      "metadata": {
        "id": "cdcOGnzhI0dh"
      },
      "execution_count": null,
      "outputs": []
    },
    {
      "cell_type": "code",
      "source": [
        "a=\"pooja\"\n",
        "print(type(a))"
      ],
      "metadata": {
        "id": "xw74zX5aJFwx"
      },
      "execution_count": null,
      "outputs": []
    },
    {
      "cell_type": "markdown",
      "source": [
        "STRINGS\n",
        "* A sequence of characters inside the quotes"
      ],
      "metadata": {
        "id": "erlgxT_CJOpf"
      }
    },
    {
      "cell_type": "markdown",
      "source": [
        "FINDING THE LENGHT\n"
      ],
      "metadata": {
        "id": "Ejax2Hb5KwJz"
      }
    },
    {
      "cell_type": "code",
      "source": [
        "x=\"pooja sri\"\n",
        "lenght = len(x)\n",
        "print(\"lenght of the srting :\", lenght)"
      ],
      "metadata": {
        "colab": {
          "base_uri": "https://localhost:8080/"
        },
        "id": "RVu5JhFALY-K",
        "outputId": "b810efd2-cab8-40a5-a1d5-be91c84ad78b"
      },
      "execution_count": null,
      "outputs": [
        {
          "output_type": "stream",
          "name": "stdout",
          "text": [
            "lenght of the srting : 9\n"
          ]
        }
      ]
    },
    {
      "cell_type": "markdown",
      "source": [
        "CONVERT UPPER CASE"
      ],
      "metadata": {
        "id": "z0sVfwX3LyBT"
      }
    },
    {
      "cell_type": "code",
      "source": [
        "x=\"good morning\"\n",
        "text=x.upper()\n",
        "print(text)"
      ],
      "metadata": {
        "colab": {
          "base_uri": "https://localhost:8080/"
        },
        "id": "-ifzsy63M5aV",
        "outputId": "ee78a577-2a81-4510-b618-4a86f6cb9c7a"
      },
      "execution_count": null,
      "outputs": [
        {
          "output_type": "stream",
          "name": "stdout",
          "text": [
            "GOOD MORNING\n"
          ]
        }
      ]
    },
    {
      "cell_type": "markdown",
      "source": [
        "COUNT VOWELS\n"
      ],
      "metadata": {
        "id": "US5a9w1aNoq0"
      }
    },
    {
      "cell_type": "code",
      "source": [
        "a = \"pooja sri\"\n",
        "vowels = \"aeiouAEIOU\"\n",
        "count = 0\n",
        "\n",
        "for char in a:\n",
        "    if char in vowels:\n",
        "        count += 1\n",
        "\n",
        "print(\"no of vowels:\", count)"
      ],
      "metadata": {
        "colab": {
          "base_uri": "https://localhost:8080/"
        },
        "id": "NVvtAeoWOR-i",
        "outputId": "7806e0ca-edbe-4f90-acbf-59e9de237487"
      },
      "execution_count": null,
      "outputs": [
        {
          "output_type": "stream",
          "name": "stdout",
          "text": [
            "no of vowels: 4\n"
          ]
        }
      ]
    },
    {
      "cell_type": "markdown",
      "source": [
        "REVERSE STRING"
      ],
      "metadata": {
        "id": "Ht6o_NQ0RpdL"
      }
    },
    {
      "cell_type": "code",
      "source": [
        "text = \" sree \"\n",
        "reversed_text=text[::-1]\n",
        "print(reversed_text)"
      ],
      "metadata": {
        "colab": {
          "base_uri": "https://localhost:8080/"
        },
        "id": "CtbqjChbSJJG",
        "outputId": "befa0cbb-7c43-4ec3-e424-00c1c82aa16e"
      },
      "execution_count": null,
      "outputs": [
        {
          "output_type": "stream",
          "name": "stdout",
          "text": [
            " eers \n"
          ]
        }
      ]
    },
    {
      "cell_type": "markdown",
      "source": [
        "REMOVE DUPLICATES"
      ],
      "metadata": {
        "id": "1HyJlBf6Uc-l"
      }
    },
    {
      "cell_type": "code",
      "source": [
        "input_string = \"programming\"\n",
        "result = \"\"\n",
        "for char in input_string:\n",
        "    if char not in result:\n",
        "        result += char\n",
        "print(result)\n"
      ],
      "metadata": {
        "colab": {
          "base_uri": "https://localhost:8080/"
        },
        "id": "hqY-zndXUvLJ",
        "outputId": "3d7e13a4-ba06-4622-d439-703ca85c774b"
      },
      "execution_count": null,
      "outputs": [
        {
          "output_type": "stream",
          "name": "stdout",
          "text": [
            "progamin\n"
          ]
        }
      ]
    },
    {
      "cell_type": "markdown",
      "source": [
        "PALINDROME OR NOT"
      ],
      "metadata": {
        "id": "kymxwMJDXD_y"
      }
    },
    {
      "cell_type": "code",
      "source": [
        "a = \"python\"\n",
        "if a == a[::-1]:\n",
        "    print(\"palindrome\")\n",
        "else :\n",
        "      print(\"not palindrome\")\n"
      ],
      "metadata": {
        "colab": {
          "base_uri": "https://localhost:8080/"
        },
        "id": "Fs96Y7XSXIQN",
        "outputId": "e7cfa2fb-7f01-448a-c4b0-dbfb26defb1a"
      },
      "execution_count": null,
      "outputs": [
        {
          "output_type": "stream",
          "name": "stdout",
          "text": [
            "not palindrome\n"
          ]
        }
      ]
    },
    {
      "cell_type": "markdown",
      "source": [
        "BOOLEAN\n",
        "* In python, a boolean reprents one of two values\n",
        "> true or false"
      ],
      "metadata": {
        "id": "XNNuaa1nYN2B"
      }
    },
    {
      "cell_type": "markdown",
      "source": [
        "check if a num is +ve"
      ],
      "metadata": {
        "id": "9PWA9cyZZTVo"
      }
    },
    {
      "cell_type": "code",
      "source": [
        "num = int(input(\"Enter a number: \"))\n",
        "if num > 0 :\n",
        "     print(\"positive\")\n",
        "else :\n",
        "     print(\"negative\")"
      ],
      "metadata": {
        "colab": {
          "base_uri": "https://localhost:8080/"
        },
        "id": "XIjb8HZLY2sW",
        "outputId": "010030e8-d71a-4793-ecc3-4acbba74b97b"
      },
      "execution_count": null,
      "outputs": [
        {
          "output_type": "stream",
          "name": "stdout",
          "text": [
            "Enter a number: -9\n",
            "negative\n"
          ]
        }
      ]
    },
    {
      "cell_type": "markdown",
      "source": [
        "Check if a string is empty or not"
      ],
      "metadata": {
        "id": "252bJOtNbAIq"
      }
    },
    {
      "cell_type": "code",
      "source": [
        "a= input(\"enter a string\")\n",
        "if a :\n",
        "    print(\"true\")\n",
        "else :\n",
        "       print(\"flase\")"
      ],
      "metadata": {
        "colab": {
          "base_uri": "https://localhost:8080/"
        },
        "id": "TlZryX4jbIww",
        "outputId": "5bbab878-4363-470b-d474-ab054951b54c"
      },
      "execution_count": null,
      "outputs": [
        {
          "output_type": "stream",
          "name": "stdout",
          "text": [
            "enter a string\n",
            "flase\n"
          ]
        }
      ]
    },
    {
      "cell_type": "markdown",
      "source": [
        "Check if  word is  palindrome (boolean output)"
      ],
      "metadata": {
        "id": "GdKTGN_tcY1C"
      }
    },
    {
      "cell_type": "code",
      "source": [
        "a = input(\"enter a string:\")\n",
        "if a == a[::-1]:\n",
        "    print(\"palindrome\")\n",
        "else:\n",
        "      print(\"not palindrome\")"
      ],
      "metadata": {
        "colab": {
          "base_uri": "https://localhost:8080/"
        },
        "id": "ACq-OVH9cfzJ",
        "outputId": "479b9b9f-165e-4aa1-e031-197255c27140"
      },
      "execution_count": null,
      "outputs": [
        {
          "output_type": "stream",
          "name": "stdout",
          "text": [
            "enter a string:pooja\n",
            "not palindrome\n"
          ]
        }
      ]
    },
    {
      "cell_type": "markdown",
      "source": [
        "OPERATORS\n",
        "* Arthmetic operators\n",
        "* Assignment operators\n"
      ],
      "metadata": {
        "id": "iMGkJq8XdWXT"
      }
    },
    {
      "cell_type": "markdown",
      "source": [
        "ARITHMETIC OPERATORS\n",
        "\n",
        "Addition"
      ],
      "metadata": {
        "id": "4SHQEBc1eJBE"
      }
    },
    {
      "cell_type": "code",
      "source": [
        "a = 5\n",
        "b = 7\n",
        "print(a+b)\n"
      ],
      "metadata": {
        "colab": {
          "base_uri": "https://localhost:8080/"
        },
        "id": "QQLdY1OVeUuc",
        "outputId": "7ccb7c1e-b554-4a85-e86c-98d54646c029"
      },
      "execution_count": null,
      "outputs": [
        {
          "output_type": "stream",
          "name": "stdout",
          "text": [
            "12\n"
          ]
        }
      ]
    },
    {
      "cell_type": "markdown",
      "source": [
        "Subtraction"
      ],
      "metadata": {
        "id": "c6ORkP-Ze2OL"
      }
    },
    {
      "cell_type": "code",
      "source": [
        "a = 9\n",
        "b = 5\n",
        "print (a-b)"
      ],
      "metadata": {
        "colab": {
          "base_uri": "https://localhost:8080/"
        },
        "id": "htA7GKZXe4xj",
        "outputId": "9b945b1d-55e4-4a8b-e409-57eb677ca5b9"
      },
      "execution_count": null,
      "outputs": [
        {
          "output_type": "stream",
          "name": "stdout",
          "text": [
            "4\n"
          ]
        }
      ]
    },
    {
      "cell_type": "markdown",
      "source": [
        "Multiplication"
      ],
      "metadata": {
        "id": "iI0vfq25e_Bi"
      }
    },
    {
      "cell_type": "code",
      "source": [
        "a=8\n",
        "b=27\n",
        "print(a*b)"
      ],
      "metadata": {
        "colab": {
          "base_uri": "https://localhost:8080/"
        },
        "id": "Mv3WoamufCHZ",
        "outputId": "5936a248-a88f-44b6-a4ab-0e56fc81d9f0"
      },
      "execution_count": null,
      "outputs": [
        {
          "output_type": "stream",
          "name": "stdout",
          "text": [
            "216\n"
          ]
        }
      ]
    },
    {
      "cell_type": "markdown",
      "source": [
        "Divison"
      ],
      "metadata": {
        "id": "SHXabAQGfIFb"
      }
    },
    {
      "cell_type": "code",
      "source": [
        "a = 7\n",
        "b = 88\n",
        "print(a/b)"
      ],
      "metadata": {
        "colab": {
          "base_uri": "https://localhost:8080/"
        },
        "id": "kq2pFmGsfKGo",
        "outputId": "19e6f52c-7c12-4e21-ab89-7dbf036c2c88"
      },
      "execution_count": null,
      "outputs": [
        {
          "output_type": "stream",
          "name": "stdout",
          "text": [
            "0.07954545454545454\n"
          ]
        }
      ]
    },
    {
      "cell_type": "markdown",
      "source": [
        "Modulus"
      ],
      "metadata": {
        "id": "Rgz6JRgnfTtN"
      }
    },
    {
      "cell_type": "code",
      "source": [
        "a = 56\n",
        "b = 98\n",
        "print (a%b)"
      ],
      "metadata": {
        "colab": {
          "base_uri": "https://localhost:8080/"
        },
        "id": "GNeCaco3fYBR",
        "outputId": "6811e86c-4010-4902-c3fa-cd0f2be3ab4b"
      },
      "execution_count": null,
      "outputs": [
        {
          "output_type": "stream",
          "name": "stdout",
          "text": [
            "56\n"
          ]
        }
      ]
    },
    {
      "cell_type": "markdown",
      "source": [
        "Exponentiation"
      ],
      "metadata": {
        "id": "R92WRm50f0da"
      }
    },
    {
      "cell_type": "code",
      "source": [
        "a = 56\n",
        "b = 2\n",
        "print (a**b)"
      ],
      "metadata": {
        "colab": {
          "base_uri": "https://localhost:8080/"
        },
        "id": "U5oLES6nfype",
        "outputId": "513cdc18-ebb3-4d67-fb00-55e1abb3e8c6"
      },
      "execution_count": null,
      "outputs": [
        {
          "output_type": "stream",
          "name": "stdout",
          "text": [
            "3136\n"
          ]
        }
      ]
    },
    {
      "cell_type": "markdown",
      "source": [
        "Floor division"
      ],
      "metadata": {
        "id": "yRhPENF3gDxP"
      }
    },
    {
      "cell_type": "code",
      "source": [
        "a = 26\n",
        "b = 200\n",
        "print(a//b)"
      ],
      "metadata": {
        "colab": {
          "base_uri": "https://localhost:8080/"
        },
        "id": "QfQUMyFsgHBV",
        "outputId": "6cc2c77a-f62c-48c1-f26d-df11211df704"
      },
      "execution_count": null,
      "outputs": [
        {
          "output_type": "stream",
          "name": "stdout",
          "text": [
            "0\n"
          ]
        }
      ]
    },
    {
      "cell_type": "markdown",
      "source": [
        "ASSIGNMENT OPERATORS"
      ],
      "metadata": {
        "id": "fosyohsahM6R"
      }
    },
    {
      "cell_type": "markdown",
      "source": [
        "** OPERATOR"
      ],
      "metadata": {
        "id": "IKOGZiV1iDR7"
      }
    },
    {
      "cell_type": "markdown",
      "source": [],
      "metadata": {
        "id": "lxIRmAk4iTWG"
      }
    },
    {
      "cell_type": "code",
      "source": [
        "x = 6\n",
        "x **= 2\n",
        "print(\"Output:\", x)\n"
      ],
      "metadata": {
        "colab": {
          "base_uri": "https://localhost:8080/"
        },
        "id": "0oIxUhZdhfXA",
        "outputId": "0263cfe4-8fd5-4952-ecfb-26b9e70d95aa"
      },
      "execution_count": null,
      "outputs": [
        {
          "output_type": "stream",
          "name": "stdout",
          "text": [
            "Output: 36\n"
          ]
        }
      ]
    },
    {
      "cell_type": "code",
      "source": [
        "// OPERATOR"
      ],
      "metadata": {
        "id": "E76pN2u4iGdn"
      },
      "execution_count": null,
      "outputs": []
    },
    {
      "cell_type": "code",
      "source": [
        "x = 4\n",
        "x //= 2\n",
        "print(\"Output:\", x)\n"
      ],
      "metadata": {
        "colab": {
          "base_uri": "https://localhost:8080/"
        },
        "id": "W_xrOVdThlEW",
        "outputId": "009db39c-120f-434b-85ee-2686b375be44"
      },
      "execution_count": null,
      "outputs": [
        {
          "output_type": "stream",
          "name": "stdout",
          "text": [
            "Output: 2\n"
          ]
        }
      ]
    },
    {
      "cell_type": "code",
      "source": [
        "+= OPERATOR"
      ],
      "metadata": {
        "id": "SQWvMgmSiJg8"
      },
      "execution_count": null,
      "outputs": []
    },
    {
      "cell_type": "code",
      "source": [
        "x = 89\n",
        "x += 2\n",
        "print(\"Output:\", x)"
      ],
      "metadata": {
        "colab": {
          "base_uri": "https://localhost:8080/"
        },
        "id": "-e9h6m0ah1af",
        "outputId": "63fe7efe-3f20-417a-c60f-5000a5a35243"
      },
      "execution_count": null,
      "outputs": [
        {
          "output_type": "stream",
          "name": "stdout",
          "text": [
            "Output: 91\n"
          ]
        }
      ]
    },
    {
      "cell_type": "code",
      "source": [
        "-= OPERATOR"
      ],
      "metadata": {
        "id": "h_0NnL4liLK7"
      },
      "execution_count": null,
      "outputs": []
    },
    {
      "cell_type": "code",
      "source": [
        "x = 76\n",
        "x -= 20\n",
        "print(\"Output:\", x)"
      ],
      "metadata": {
        "colab": {
          "base_uri": "https://localhost:8080/"
        },
        "id": "qP4EkQj1h88k",
        "outputId": "019d7277-5289-48ee-ce00-6a944ad54aa8"
      },
      "execution_count": null,
      "outputs": [
        {
          "output_type": "stream",
          "name": "stdout",
          "text": [
            "Output: 56\n"
          ]
        }
      ]
    },
    {
      "cell_type": "markdown",
      "source": [
        "LIST\n",
        "* It is stored multiple items in a single variable\n",
        "* lits items are orderd and it is denoted by square brackets []"
      ],
      "metadata": {
        "id": "VoqQ9pKJkydu"
      }
    },
    {
      "cell_type": "markdown",
      "source": [
        "Allow duplicate values"
      ],
      "metadata": {
        "id": "yOfagddLmWgQ"
      }
    },
    {
      "cell_type": "code",
      "source": [
        "thislist = [\"pooja\", \"vimala\", \"valli\", \"jnana\", \"sai\"]\n",
        "print(thislist)"
      ],
      "metadata": {
        "colab": {
          "base_uri": "https://localhost:8080/"
        },
        "id": "l8lzMwYulYhu",
        "outputId": "4764078f-66a4-49e1-d313-644f47e92ba3"
      },
      "execution_count": null,
      "outputs": [
        {
          "output_type": "stream",
          "name": "stdout",
          "text": [
            "['pooja', 'vimala', 'valli', 'jnana', 'sai']\n"
          ]
        }
      ]
    },
    {
      "cell_type": "markdown",
      "source": [
        "lenght of the list"
      ],
      "metadata": {
        "id": "Lv_ZTndomcUQ"
      }
    },
    {
      "cell_type": "code",
      "source": [
        "thislist = [\"pooja\", \"sai\", \"sree\"]\n",
        "print(len(thislist))\n"
      ],
      "metadata": {
        "colab": {
          "base_uri": "https://localhost:8080/"
        },
        "id": "eXycEWa7mhtO",
        "outputId": "a9dc3f7e-33dd-402f-e3d0-c5fc97ef3098"
      },
      "execution_count": null,
      "outputs": [
        {
          "output_type": "stream",
          "name": "stdout",
          "text": [
            "3\n"
          ]
        }
      ]
    },
    {
      "cell_type": "markdown",
      "source": [
        "data types: string, int and boolean"
      ],
      "metadata": {
        "id": "kx9nTctmmoq9"
      }
    },
    {
      "cell_type": "code",
      "source": [
        "list1 = [\"csm\", \"aid\", \"cai\"]\n",
        "list2 = [1, 5, 7, 9, 3]\n",
        "list3 = [False, False, True]\n",
        "print(list1)\n",
        "print(list2)\n",
        "print(list3)\n"
      ],
      "metadata": {
        "colab": {
          "base_uri": "https://localhost:8080/"
        },
        "id": "_-f012VenHOJ",
        "outputId": "a76b5eee-4b44-4e22-bae3-465f67134876"
      },
      "execution_count": null,
      "outputs": [
        {
          "output_type": "stream",
          "name": "stdout",
          "text": [
            "['csm', 'aid', 'cai']\n",
            "[1, 5, 7, 9, 3]\n",
            "[False, False, True]\n"
          ]
        }
      ]
    },
    {
      "cell_type": "markdown",
      "source": [
        "Item exist or  not"
      ],
      "metadata": {
        "id": "AtiB9IYYox5z"
      }
    },
    {
      "cell_type": "code",
      "source": [
        "thislist = [\"pooja\", \"khub\", \"team5\"]\n",
        "if \"team5\" in thislist:\n",
        "  print(\"Yes, 'team5' is in the list\")\n",
        "else:\n",
        "  print(\"not in the list\")"
      ],
      "metadata": {
        "colab": {
          "base_uri": "https://localhost:8080/"
        },
        "id": "iQzFxImso05H",
        "outputId": "f03710ee-e140-42d0-c593-6d25fb0d397e"
      },
      "execution_count": null,
      "outputs": [
        {
          "output_type": "stream",
          "name": "stdout",
          "text": [
            "Yes, 'team5' is in the list\n"
          ]
        }
      ]
    },
    {
      "cell_type": "markdown",
      "source": [],
      "metadata": {
        "id": "cGyzGxOgna_c"
      }
    },
    {
      "cell_type": "markdown",
      "source": [
        "Change list items"
      ],
      "metadata": {
        "id": "lH5RYJnBpmmm"
      }
    },
    {
      "cell_type": "code",
      "source": [
        "thislist = [\"sree\", \"vimmu\", \"sai\"]\n",
        "thislist[1] = \"cai\"\n",
        "\n",
        "print(thislist)"
      ],
      "metadata": {
        "colab": {
          "base_uri": "https://localhost:8080/"
        },
        "id": "RJmftW3ZpmKO",
        "outputId": "b7db2b71-9279-4145-a180-09877be4c96e"
      },
      "execution_count": null,
      "outputs": [
        {
          "output_type": "stream",
          "name": "stdout",
          "text": [
            "['sree', 'cai', 'sai']\n"
          ]
        }
      ]
    },
    {
      "cell_type": "code",
      "source": [
        "thislist = [\"one\", \"two\", \"three\", \"four\", \"five\", \"six\"]\n",
        "thislist[1:3] = [\"ninet\", \"eight\"]\n",
        "print(thislist)"
      ],
      "metadata": {
        "colab": {
          "base_uri": "https://localhost:8080/"
        },
        "id": "bQAYMQi7p8W8",
        "outputId": "d6db8858-cf70-4858-ba5b-2b5f3878c8ea"
      },
      "execution_count": null,
      "outputs": [
        {
          "output_type": "stream",
          "name": "stdout",
          "text": [
            "['one', 'ninet', 'eight', 'four', 'five', 'six']\n"
          ]
        }
      ]
    },
    {
      "cell_type": "markdown",
      "source": [
        "Remove list item"
      ],
      "metadata": {
        "id": "Q1hbNsOzqeAD"
      }
    },
    {
      "cell_type": "code",
      "source": [
        "thislist = [\"abc\", \"bbb\", \"ccc\"]\n",
        "thislist.remove(\"abc\")\n",
        "print(thislist)\n"
      ],
      "metadata": {
        "colab": {
          "base_uri": "https://localhost:8080/"
        },
        "id": "cBUQq-8sqgfL",
        "outputId": "a437e2c3-446a-48a7-ab05-484041d2b09d"
      },
      "execution_count": null,
      "outputs": [
        {
          "output_type": "stream",
          "name": "stdout",
          "text": [
            "['bbb', 'ccc']\n"
          ]
        }
      ]
    },
    {
      "cell_type": "markdown",
      "source": [
        "Remove anyitem"
      ],
      "metadata": {
        "id": "u3N68OFAq4ep"
      }
    },
    {
      "cell_type": "code",
      "source": [
        "thislist = [\"kiet\", \"kiew\", \"kiek\"]\n",
        "del thislist[0]\n",
        "print(thislist)"
      ],
      "metadata": {
        "colab": {
          "base_uri": "https://localhost:8080/"
        },
        "id": "M-z_FDRiq68r",
        "outputId": "019311f7-5e6c-4fbf-df86-5ae9bb737106"
      },
      "execution_count": null,
      "outputs": [
        {
          "output_type": "stream",
          "name": "stdout",
          "text": [
            "['kiew', 'kiek']\n"
          ]
        }
      ]
    },
    {
      "cell_type": "markdown",
      "source": [
        "Delete the entire list"
      ],
      "metadata": {
        "id": "3boTTbyOrTI4"
      }
    },
    {
      "cell_type": "code",
      "source": [
        "thislist = [\"1\", \"2\", \"3\"]\n",
        "del thislist"
      ],
      "metadata": {
        "id": "sGFXqCCirUm_"
      },
      "execution_count": null,
      "outputs": []
    },
    {
      "cell_type": "markdown",
      "source": [
        "loop list"
      ],
      "metadata": {
        "id": "ja0m6A2xrjI-"
      }
    },
    {
      "cell_type": "code",
      "source": [
        "thislist = [\"10\", \"50\", \"100\"]\n",
        "for i in range(len(thislist)):\n",
        "  print(thislist[i])\n"
      ],
      "metadata": {
        "colab": {
          "base_uri": "https://localhost:8080/"
        },
        "id": "9holxiXFrnVI",
        "outputId": "764ebf02-ee0a-42ab-95bd-44ace1a9be8c"
      },
      "execution_count": null,
      "outputs": [
        {
          "output_type": "stream",
          "name": "stdout",
          "text": [
            "10\n",
            "50\n",
            "100\n"
          ]
        }
      ]
    },
    {
      "cell_type": "markdown",
      "source": [
        "using while loop"
      ],
      "metadata": {
        "id": "-LoDLGKUr5wD"
      }
    },
    {
      "cell_type": "code",
      "source": [
        "thislist = [\"100\", \"200\", \"300\"]\n",
        "i = 0\n",
        "while i < len(thislist):\n",
        "  print(thislist[i])\n",
        "  i = i + 1"
      ],
      "metadata": {
        "colab": {
          "base_uri": "https://localhost:8080/"
        },
        "id": "OTqzfWYSr7rq",
        "outputId": "616a465d-dd06-413c-c01c-13a44da87c45"
      },
      "execution_count": null,
      "outputs": [
        {
          "output_type": "stream",
          "name": "stdout",
          "text": [
            "100\n",
            "200\n",
            "300\n"
          ]
        }
      ]
    },
    {
      "cell_type": "markdown",
      "source": [
        "using foe loop"
      ],
      "metadata": {
        "id": "p1hBPQeLsFOL"
      }
    },
    {
      "cell_type": "code",
      "source": [
        "thislist = [\"abcd\", \"abcde\", \"abcdef\"]\n",
        "[print(x) for x in thislist]"
      ],
      "metadata": {
        "colab": {
          "base_uri": "https://localhost:8080/"
        },
        "id": "EaQprQbqsKUY",
        "outputId": "ddb747af-ffd5-43eb-e085-c6cba25c1186"
      },
      "execution_count": null,
      "outputs": [
        {
          "output_type": "stream",
          "name": "stdout",
          "text": [
            "abcd\n",
            "abcde\n",
            "abcdef\n"
          ]
        },
        {
          "output_type": "execute_result",
          "data": {
            "text/plain": [
              "[None, None, None]"
            ]
          },
          "metadata": {},
          "execution_count": 107
        }
      ]
    },
    {
      "cell_type": "markdown",
      "source": [
        "List Comprehension"
      ],
      "metadata": {
        "id": "5tsZaWGus4lF"
      }
    },
    {
      "cell_type": "code",
      "source": [
        "num = [\"101\", \"105\", \"206\", \"129\", \"555\"]\n",
        "newlist = []\n",
        "\n",
        "for x in num:\n",
        "  if \"1\" in x:\n",
        "    newlist.append(x)\n",
        "\n",
        "print(newlist)"
      ],
      "metadata": {
        "colab": {
          "base_uri": "https://localhost:8080/"
        },
        "id": "J4xo7Np6s7Kz",
        "outputId": "4f817497-8ad1-42d6-bf29-47ef1e9d8898"
      },
      "execution_count": null,
      "outputs": [
        {
          "output_type": "stream",
          "name": "stdout",
          "text": [
            "['101', '105', '129']\n"
          ]
        }
      ]
    },
    {
      "cell_type": "markdown",
      "source": [
        "sort list by alphabets"
      ],
      "metadata": {
        "id": "rV8OH_sftYhh"
      }
    },
    {
      "cell_type": "code",
      "source": [
        "thislist = [\"pooja\", \"kiew\", \"cai\", \"team5\", \"dayscolar\"]\n",
        "thislist.sort()\n",
        "print(thislist)"
      ],
      "metadata": {
        "colab": {
          "base_uri": "https://localhost:8080/"
        },
        "id": "chi0ZWGhtdq-",
        "outputId": "b37d1165-58ef-4fa9-ef48-32b479d5cbdd"
      },
      "execution_count": null,
      "outputs": [
        {
          "output_type": "stream",
          "name": "stdout",
          "text": [
            "['cai', 'dayscolar', 'kiew', 'pooja', 'team5']\n"
          ]
        }
      ]
    },
    {
      "cell_type": "markdown",
      "source": [
        "sort list by numbers"
      ],
      "metadata": {
        "id": "RdHpZAE5uoTC"
      }
    },
    {
      "cell_type": "code",
      "source": [
        "thislist = [100, 67, 90, 1,89,]\n",
        "thislist.sort()\n",
        "print(thislist)"
      ],
      "metadata": {
        "colab": {
          "base_uri": "https://localhost:8080/"
        },
        "id": "sNF-NqgkutU1",
        "outputId": "e3e430c8-da3c-454a-b127-3b3ba7c8da75"
      },
      "execution_count": null,
      "outputs": [
        {
          "output_type": "stream",
          "name": "stdout",
          "text": [
            "[1, 67, 89, 90, 100]\n"
          ]
        }
      ]
    },
    {
      "cell_type": "markdown",
      "source": [
        "sort function"
      ],
      "metadata": {
        "id": "YJWtcKoivOa6"
      }
    },
    {
      "cell_type": "code",
      "source": [
        "def myfunc(n):\n",
        "  return abs(n - 50)\n",
        "\n",
        "thislist = [50, 50, 25, 10, 23]\n",
        "\n",
        "thislist.sort(key = myfunc)\n",
        "\n",
        "print(thislist)\n"
      ],
      "metadata": {
        "colab": {
          "base_uri": "https://localhost:8080/"
        },
        "id": "Icg-n90ovQ-p",
        "outputId": "c743e06f-cc87-4bf2-8c59-f31192872529"
      },
      "execution_count": null,
      "outputs": [
        {
          "output_type": "stream",
          "name": "stdout",
          "text": [
            "[50, 50, 25, 23, 10]\n"
          ]
        }
      ]
    },
    {
      "cell_type": "markdown",
      "source": [
        "copy a list"
      ],
      "metadata": {
        "id": "lsIz-KcJvohj"
      }
    },
    {
      "cell_type": "code",
      "source": [
        "thislist = [\"101\", \"210\", \"520\"]\n",
        "mylist = thislist.copy()\n",
        "print(mylist)"
      ],
      "metadata": {
        "colab": {
          "base_uri": "https://localhost:8080/"
        },
        "id": "gKY2MpwGvtWJ",
        "outputId": "4e6b68c5-488e-4df8-a886-6add05dbd835"
      },
      "execution_count": null,
      "outputs": [
        {
          "output_type": "stream",
          "name": "stdout",
          "text": [
            "['101', '210', '520']\n"
          ]
        }
      ]
    },
    {
      "cell_type": "markdown",
      "source": [
        "using slice operator"
      ],
      "metadata": {
        "id": "N_N1NKCUv18i"
      }
    },
    {
      "cell_type": "code",
      "source": [
        "thislist = [\"kiwi\", \"black\", \"phone\"]\n",
        "mylist = thislist[:]\n",
        "print(mylist)"
      ],
      "metadata": {
        "colab": {
          "base_uri": "https://localhost:8080/"
        },
        "id": "biHk3f6Xv4Il",
        "outputId": "db8655ce-d577-4959-acc1-df12751ab72a"
      },
      "execution_count": null,
      "outputs": [
        {
          "output_type": "stream",
          "name": "stdout",
          "text": [
            "['kiwi', 'black', 'phone']\n"
          ]
        }
      ]
    },
    {
      "cell_type": "markdown",
      "source": [
        "Join two lists"
      ],
      "metadata": {
        "id": "4CjCxFwjwNSk"
      }
    },
    {
      "cell_type": "code",
      "source": [
        "list1 = [\"ae\", \"io\", \"u\"]\n",
        "list2 = [10, 20, 30]\n",
        "\n",
        "list3 = list1 + list2\n",
        "print(list3)"
      ],
      "metadata": {
        "colab": {
          "base_uri": "https://localhost:8080/"
        },
        "id": "mELEWx6VwRTc",
        "outputId": "718dcbd4-ada7-4fa2-a637-a58ec3abd892"
      },
      "execution_count": null,
      "outputs": [
        {
          "output_type": "stream",
          "name": "stdout",
          "text": [
            "['ae', 'io', 'u', 10, 20, 30]\n"
          ]
        }
      ]
    },
    {
      "cell_type": "markdown",
      "source": [
        "using append"
      ],
      "metadata": {
        "id": "mNWyudkxwrWE"
      }
    },
    {
      "cell_type": "code",
      "source": [
        "list1 = [\"pooja\", \"sree\" , \"sri\"]\n",
        "list2 = [00, 000, 000]\n",
        "\n",
        "for x in list2:\n",
        "  list1.append(x)\n",
        "\n",
        "print(list1)"
      ],
      "metadata": {
        "colab": {
          "base_uri": "https://localhost:8080/"
        },
        "id": "f4u1uIStwtLA",
        "outputId": "085d2b51-b33f-4ec7-c690-fdba9304900a"
      },
      "execution_count": null,
      "outputs": [
        {
          "output_type": "stream",
          "name": "stdout",
          "text": [
            "['pooja', 'sree', 'sri', 0, 0, 0]\n"
          ]
        }
      ]
    },
    {
      "cell_type": "markdown",
      "source": [
        "using extend"
      ],
      "metadata": {
        "id": "hRJAxSmZw6aT"
      }
    },
    {
      "cell_type": "code",
      "source": [
        "list1 = [\"a\", \"b\" , \"c\"]\n",
        "list2 = [1, 2, 3]\n",
        "\n",
        "list1.extend(list2)\n",
        "print(list1)"
      ],
      "metadata": {
        "colab": {
          "base_uri": "https://localhost:8080/"
        },
        "id": "mdnVekafw8Ee",
        "outputId": "f2fec3bf-dae8-47c6-e0ef-e253358e3264"
      },
      "execution_count": null,
      "outputs": [
        {
          "output_type": "stream",
          "name": "stdout",
          "text": [
            "['a', 'b', 'c', 1, 2, 3]\n"
          ]
        }
      ]
    },
    {
      "cell_type": "markdown",
      "source": [
        "TUPLES\n",
        "* Tuples are used to store multiple items in a single variable\n",
        "* I t is denoted by round brackets"
      ],
      "metadata": {
        "id": "bD5wJFhRxvZZ"
      }
    },
    {
      "cell_type": "markdown",
      "source": [
        "lenght of the tuple"
      ],
      "metadata": {
        "id": "Rrwq9ofGzFFM"
      }
    },
    {
      "cell_type": "code",
      "source": [
        "thistuple = (\"rat\", \"cat\", \"mat\", \"bat\")\n",
        "print(len(thistuple))"
      ],
      "metadata": {
        "colab": {
          "base_uri": "https://localhost:8080/"
        },
        "id": "k07oogUPzHY7",
        "outputId": "ac714279-6d05-4d95-d3cb-e6ffc70ba5bd"
      },
      "execution_count": null,
      "outputs": [
        {
          "output_type": "stream",
          "name": "stdout",
          "text": [
            "4\n"
          ]
        }
      ]
    },
    {
      "cell_type": "markdown",
      "source": [],
      "metadata": {
        "id": "UzRK8BXHzWxW"
      }
    },
    {
      "cell_type": "markdown",
      "source": [
        "tuple items -data types"
      ],
      "metadata": {
        "id": "FMG-UNf8z3Qy"
      }
    },
    {
      "cell_type": "code",
      "source": [
        "tuple1 = (\"pinky\", \"sweety\", \"cherry\")\n",
        "tuple2 = (1, 5, 7, 9, 3)\n",
        "tuple3 = (True, False, False)"
      ],
      "metadata": {
        "id": "krZv53KZz8Ot"
      },
      "execution_count": null,
      "outputs": []
    },
    {
      "cell_type": "markdown",
      "source": [
        "tuple constructor"
      ],
      "metadata": {
        "id": "kA9ObdWY0L76"
      }
    },
    {
      "cell_type": "code",
      "source": [
        "thistuple = tuple((10,20,30,40,50,55))\n",
        "print(thistuple)\n"
      ],
      "metadata": {
        "colab": {
          "base_uri": "https://localhost:8080/"
        },
        "id": "-vjS0Zvb0OE4",
        "outputId": "9835d350-fb27-4b49-940a-59b1360fb204"
      },
      "execution_count": null,
      "outputs": [
        {
          "output_type": "stream",
          "name": "stdout",
          "text": [
            "(10, 20, 30, 40, 50, 55)\n"
          ]
        }
      ]
    },
    {
      "cell_type": "markdown",
      "source": [
        "negative indexing"
      ],
      "metadata": {
        "id": "7sO_JXXW0l4P"
      }
    },
    {
      "cell_type": "code",
      "source": [
        "thistuple = (\"kiet\", \"kiet1\", \"kiet2\")\n",
        "print(thistuple[-1])"
      ],
      "metadata": {
        "colab": {
          "base_uri": "https://localhost:8080/"
        },
        "id": "rGpw6pj_0oqK",
        "outputId": "9db351af-190f-4805-beb3-03ec493a42ec"
      },
      "execution_count": null,
      "outputs": [
        {
          "output_type": "stream",
          "name": "stdout",
          "text": [
            "kiet2\n"
          ]
        }
      ]
    },
    {
      "cell_type": "markdown",
      "source": [
        "convert tuple into a list"
      ],
      "metadata": {
        "id": "eVe3VCzd0_7d"
      }
    },
    {
      "cell_type": "code",
      "source": [
        "thistuple = (1,3,5,7)\n",
        "y = list(thistuple)\n",
        "y.append(9)\n",
        "thistuple = tuple(y)"
      ],
      "metadata": {
        "id": "bguAwva51Cln"
      },
      "execution_count": null,
      "outputs": []
    },
    {
      "cell_type": "markdown",
      "source": [
        "Join tuples"
      ],
      "metadata": {
        "id": "NWxNMKHs1vnY"
      }
    },
    {
      "cell_type": "code",
      "source": [
        "tuple1 = (\"a\", \"b\" , \"c\")\n",
        "tuple2 = (1, 2, 3)\n",
        "\n",
        "tuple3 = tuple1 + tuple2\n",
        "print(tuple3)"
      ],
      "metadata": {
        "colab": {
          "base_uri": "https://localhost:8080/"
        },
        "id": "9a01gV0R1xgW",
        "outputId": "dfb6d322-8728-4b2f-b70c-30761dd2ffc4"
      },
      "execution_count": null,
      "outputs": [
        {
          "output_type": "stream",
          "name": "stdout",
          "text": [
            "('a', 'b', 'c', 1, 2, 3)\n"
          ]
        }
      ]
    },
    {
      "cell_type": "markdown",
      "source": [
        "SETS\n",
        "* Sets are used to store multiple items in a single variable\n",
        "* it is a collection of unorderd, unchangable and it is denoted by curly brackets"
      ],
      "metadata": {
        "id": "VbEb6ZujGNLp"
      }
    },
    {
      "cell_type": "markdown",
      "source": [
        "creating a set"
      ],
      "metadata": {
        "id": "OGpnr3MyGxE_"
      }
    },
    {
      "cell_type": "code",
      "source": [
        "thisset = {\"bag\", \"pen\", \"pencil\"}\n",
        "print(thisset)"
      ],
      "metadata": {
        "colab": {
          "base_uri": "https://localhost:8080/"
        },
        "id": "fXldLjWNHK1w",
        "outputId": "649c53f5-dba2-4309-bebb-4c4cc3609020"
      },
      "execution_count": null,
      "outputs": [
        {
          "output_type": "stream",
          "name": "stdout",
          "text": [
            "{'pencil', 'pen', 'bag'}\n"
          ]
        }
      ]
    },
    {
      "cell_type": "markdown",
      "source": [
        "lenght of the set"
      ],
      "metadata": {
        "id": "azY7BPy4IFBG"
      }
    },
    {
      "cell_type": "code",
      "source": [
        "thisset = {\"parrot\", \"dove\", \"chair\"}\n",
        "\n",
        "print(len(thisset))\n"
      ],
      "metadata": {
        "colab": {
          "base_uri": "https://localhost:8080/"
        },
        "id": "kfpd4AV3IHDC",
        "outputId": "7eb82ef8-6ef7-4186-904b-b9b19a84b380"
      },
      "execution_count": null,
      "outputs": [
        {
          "output_type": "stream",
          "name": "stdout",
          "text": [
            "3\n"
          ]
        }
      ]
    },
    {
      "cell_type": "markdown",
      "source": [
        "set data types"
      ],
      "metadata": {
        "id": "ZuN0XhUiJJ85"
      }
    },
    {
      "cell_type": "code",
      "source": [
        "set1 = {\"hp\", \"lenovo\", \"mac\"}\n",
        "set2 = {1, 5, 7, 9, 3}\n",
        "set3 = {True, False, False}\n",
        "print(set1)\n",
        "print(set2)\n",
        "print(set3)\n"
      ],
      "metadata": {
        "colab": {
          "base_uri": "https://localhost:8080/"
        },
        "id": "CryibbeyJNrV",
        "outputId": "6800bb10-cebc-4dcc-9c0a-0813b6eba23e"
      },
      "execution_count": null,
      "outputs": [
        {
          "output_type": "stream",
          "name": "stdout",
          "text": [
            "{'lenovo', 'hp', 'mac'}\n",
            "{1, 3, 5, 7, 9}\n",
            "{False, True}\n"
          ]
        }
      ]
    },
    {
      "cell_type": "markdown",
      "source": [
        "true and 1 consider same values and false and 0 consider same values"
      ],
      "metadata": {
        "id": "RCJVAyZ0QuSI"
      }
    },
    {
      "cell_type": "code",
      "source": [
        "thisset = {\"pooja\", \"sree\", \"sri\", True, 1, 2,False, 0}\n",
        "\n",
        "print(thisset)"
      ],
      "metadata": {
        "colab": {
          "base_uri": "https://localhost:8080/"
        },
        "id": "wrXzN3xGNz2A",
        "outputId": "ad4b70af-e032-4de1-dd7f-6b363b8e431e"
      },
      "execution_count": null,
      "outputs": [
        {
          "output_type": "stream",
          "name": "stdout",
          "text": [
            "{False, True, 2, 'pooja', 'sri', 'sree'}\n"
          ]
        }
      ]
    },
    {
      "cell_type": "markdown",
      "source": [
        "type() set"
      ],
      "metadata": {
        "id": "r7o5zOg3RJhI"
      }
    },
    {
      "cell_type": "code",
      "source": [
        "myset = {\"three\", \"six\", \"nine\"}\n",
        "print(type(myset))"
      ],
      "metadata": {
        "colab": {
          "base_uri": "https://localhost:8080/"
        },
        "id": "Z91-J3ItRNgh",
        "outputId": "15c75422-51dd-4721-f4bb-e187f67137a5"
      },
      "execution_count": null,
      "outputs": [
        {
          "output_type": "stream",
          "name": "stdout",
          "text": [
            "<class 'set'>\n"
          ]
        }
      ]
    },
    {
      "cell_type": "markdown",
      "source": [
        "set constructor"
      ],
      "metadata": {
        "id": "HxSoDAYZRkXm"
      }
    },
    {
      "cell_type": "code",
      "source": [
        "thisset=((102,105,107))\n",
        "print(thisset)"
      ],
      "metadata": {
        "colab": {
          "base_uri": "https://localhost:8080/"
        },
        "id": "buUYvFtNRntC",
        "outputId": "2eaaf92e-d481-4b06-fb1f-9549660567e8"
      },
      "execution_count": null,
      "outputs": [
        {
          "output_type": "stream",
          "name": "stdout",
          "text": [
            "(102, 105, 107)\n"
          ]
        }
      ]
    },
    {
      "cell_type": "markdown",
      "source": [
        "add items"
      ],
      "metadata": {
        "id": "DbCJQAnZT5d_"
      }
    },
    {
      "cell_type": "code",
      "source": [
        "thisset = {\"apple\", \"nani\", \"book\"}\n",
        "\n",
        "thisset.add(\"orange\")\n",
        "\n",
        "print(thisset)\n"
      ],
      "metadata": {
        "colab": {
          "base_uri": "https://localhost:8080/"
        },
        "id": "n1_r1j4RU1rX",
        "outputId": "60183250-1fd8-4aae-8e05-3325b0b3345f"
      },
      "execution_count": null,
      "outputs": [
        {
          "output_type": "stream",
          "name": "stdout",
          "text": [
            "{'book', 'orange', 'apple', 'nani'}\n"
          ]
        }
      ]
    },
    {
      "cell_type": "markdown",
      "source": [
        "add set"
      ],
      "metadata": {
        "id": "V0Th8LarVWTu"
      }
    },
    {
      "cell_type": "code",
      "source": [
        "thisset = {\"cai\", \"csm\", \"aid\"}\n",
        "tropical = {\"kiet\", \"kiew\", \"kiek\"}\n",
        "\n",
        "thisset.update(tropical)\n",
        "\n",
        "print(thisset)"
      ],
      "metadata": {
        "colab": {
          "base_uri": "https://localhost:8080/"
        },
        "id": "h_LH1VO9VZWL",
        "outputId": "9034618f-2484-44c5-81bd-16aafd966a17"
      },
      "execution_count": null,
      "outputs": [
        {
          "output_type": "stream",
          "name": "stdout",
          "text": [
            "{'aid', 'kiew', 'kiek', 'kiet', 'csm', 'cai'}\n"
          ]
        }
      ]
    },
    {
      "cell_type": "markdown",
      "source": [
        "Remove set  items"
      ],
      "metadata": {
        "id": "utufz_dyV2nN"
      }
    },
    {
      "cell_type": "code",
      "source": [
        "thisset = {\"pink\", \"peach\", \"red\"}\n",
        "\n",
        "thisset.remove(\"red\")\n",
        "\n",
        "print(thisset)"
      ],
      "metadata": {
        "colab": {
          "base_uri": "https://localhost:8080/"
        },
        "id": "h7QWKM-nV5aB",
        "outputId": "41141ef0-d253-488e-a4f0-56ad060dda41"
      },
      "execution_count": null,
      "outputs": [
        {
          "output_type": "stream",
          "name": "stdout",
          "text": [
            "{'pink', 'peach'}\n"
          ]
        }
      ]
    },
    {
      "cell_type": "markdown",
      "source": [
        "remove a random item by pop"
      ],
      "metadata": {
        "id": "tyIUIwV7WQxl"
      }
    },
    {
      "cell_type": "code",
      "source": [
        "thisset = {\"pooja\", \"sree\", \"srii\"}\n",
        "\n",
        "x = thisset.pop()\n",
        "\n",
        "print(x)\n",
        "\n",
        "print(thisset)"
      ],
      "metadata": {
        "colab": {
          "base_uri": "https://localhost:8080/"
        },
        "id": "Uu7VWKH6WT53",
        "outputId": "4ed37bfa-9cff-45f4-a3b0-72af02f8b19a"
      },
      "execution_count": null,
      "outputs": [
        {
          "output_type": "stream",
          "name": "stdout",
          "text": [
            "srii\n",
            "{'pooja', 'sree'}\n"
          ]
        }
      ]
    },
    {
      "cell_type": "markdown",
      "source": [
        "LOOP ITEMS"
      ],
      "metadata": {
        "id": "lDF8_KZ0Wojk"
      }
    },
    {
      "cell_type": "code",
      "source": [
        "thisset = {\"for\", \"do\", \"while\"}\n",
        "\n",
        "for x in thisset:\n",
        "  print(x)"
      ],
      "metadata": {
        "colab": {
          "base_uri": "https://localhost:8080/"
        },
        "id": "sPoUSDlfWqPl",
        "outputId": "324e5022-993c-4d48-a670-31160a335943"
      },
      "execution_count": null,
      "outputs": [
        {
          "output_type": "stream",
          "name": "stdout",
          "text": [
            "for\n",
            "do\n",
            "while\n"
          ]
        }
      ]
    },
    {
      "cell_type": "markdown",
      "source": [
        "JOIN SETS"
      ],
      "metadata": {
        "id": "mE5l3R0lXBO7"
      }
    },
    {
      "cell_type": "markdown",
      "source": [
        "Union"
      ],
      "metadata": {
        "id": "AgIQ3acLXHte"
      }
    },
    {
      "cell_type": "code",
      "source": [
        "set1 = {\"a\", \"b\", \"c\"}\n",
        "set2 = {21, 32, 43}\n",
        "\n",
        "set3 = set1.union(set2)\n",
        "print(set3)"
      ],
      "metadata": {
        "colab": {
          "base_uri": "https://localhost:8080/"
        },
        "id": "j75d3NsnXJEj",
        "outputId": "e0519078-d1d2-46ac-fa0c-70d6c143321a"
      },
      "execution_count": null,
      "outputs": [
        {
          "output_type": "stream",
          "name": "stdout",
          "text": [
            "{32, 'c', 21, 'a', 'b', 43}\n"
          ]
        }
      ]
    },
    {
      "cell_type": "markdown",
      "source": [
        "join multiple sets"
      ],
      "metadata": {
        "id": "1VMeNs17XXYU"
      }
    },
    {
      "cell_type": "code",
      "source": [
        "set1 = {\"a\", \"b\", \"c\"}\n",
        "set2 = {1, 2, 3}\n",
        "set3 = {\"John\", \"Elena\"}\n",
        "set4 = {\"apple\", \"bananas\", \"cherry\"}\n",
        "\n",
        "myset = set1.union(set2, set3, set4)\n",
        "print(myset)\n"
      ],
      "metadata": {
        "colab": {
          "base_uri": "https://localhost:8080/"
        },
        "id": "90Ndf59XXbnK",
        "outputId": "763a3b94-8a7f-4e37-d7e2-6eed69b17b2a"
      },
      "execution_count": null,
      "outputs": [
        {
          "output_type": "stream",
          "name": "stdout",
          "text": [
            "{1, 2, 'c', 3, 'John', 'a', 'apple', 'b', 'Elena', 'cherry', 'bananas'}\n"
          ]
        }
      ]
    },
    {
      "cell_type": "markdown",
      "source": [
        "join set and a tuple"
      ],
      "metadata": {
        "id": "ui-COkajXnEE"
      }
    },
    {
      "cell_type": "code",
      "source": [
        "x = {\"a\", \"b\", \"c\"}\n",
        "y = (1, 2, 3)\n",
        "\n",
        "z = x.union(y)\n",
        "print(z)"
      ],
      "metadata": {
        "colab": {
          "base_uri": "https://localhost:8080/"
        },
        "id": "fsTvNHhpXqgq",
        "outputId": "982d37b1-a1ac-4c95-89c4-d8f4844bf37a"
      },
      "execution_count": null,
      "outputs": [
        {
          "output_type": "stream",
          "name": "stdout",
          "text": [
            "{1, 2, 'c', 3, 'a', 'b'}\n"
          ]
        }
      ]
    },
    {
      "cell_type": "markdown",
      "source": [
        "intersection"
      ],
      "metadata": {
        "id": "JmwwOipgX9S7"
      }
    },
    {
      "cell_type": "code",
      "source": [
        "set1 = {\"book\", \"pen\", \"laptop\"}\n",
        "set2 = {\"google\", \"pen\", \"chatgpt\"}\n",
        "\n",
        "set3 = set1.intersection(set2)\n",
        "print(set3)"
      ],
      "metadata": {
        "colab": {
          "base_uri": "https://localhost:8080/"
        },
        "id": "jKaKsRPSX_Hk",
        "outputId": "97a70465-43af-4d87-a578-d1e9bfbad49d"
      },
      "execution_count": null,
      "outputs": [
        {
          "output_type": "stream",
          "name": "stdout",
          "text": [
            "{'pen'}\n"
          ]
        }
      ]
    },
    {
      "cell_type": "markdown",
      "source": [
        "true and 1 and false and 0 are consider same values"
      ],
      "metadata": {
        "id": "nIwdsL1mYSK5"
      }
    },
    {
      "cell_type": "code",
      "source": [
        "set1 = {1,5,8,\"abc\", 1,  \"eee\", 0, \"bee\"}\n",
        "set2 = {False, \"eee\", 1, \"apple\", 2,4, True}\n",
        "\n",
        "set3 = set1.intersection(set2)\n",
        "\n",
        "print(set3)"
      ],
      "metadata": {
        "colab": {
          "base_uri": "https://localhost:8080/"
        },
        "id": "JEdd1Ye6YYLz",
        "outputId": "f3013869-6449-4e50-c05d-1a2d21dc3149"
      },
      "execution_count": null,
      "outputs": [
        {
          "output_type": "stream",
          "name": "stdout",
          "text": [
            "{False, 1, 'eee'}\n"
          ]
        }
      ]
    },
    {
      "cell_type": "markdown",
      "source": [
        "difference b/w 2 sets"
      ],
      "metadata": {
        "id": "fQ2rk0JiZCFm"
      }
    },
    {
      "cell_type": "code",
      "source": [
        "set1 = {\"kiet\", \"kiew\", \"kiek\"}\n",
        "set2 = {\"google\", \"microsoft\", \"kiet\"}\n",
        "\n",
        "set3 = set1.difference(set2)\n",
        "\n",
        "print(set3)\n"
      ],
      "metadata": {
        "colab": {
          "base_uri": "https://localhost:8080/"
        },
        "id": "e642dCAEZFtl",
        "outputId": "8885a8af-2d5f-4889-fe19-53aac0f5c77c"
      },
      "execution_count": null,
      "outputs": [
        {
          "output_type": "stream",
          "name": "stdout",
          "text": [
            "{'kiew', 'kiek'}\n"
          ]
        }
      ]
    },
    {
      "cell_type": "markdown",
      "source": [
        "symmetric difference"
      ],
      "metadata": {
        "id": "axAQxDaXZTAm"
      }
    },
    {
      "cell_type": "code",
      "source": [
        "set1 = {\"aid\", \"csm\", \"aid\"}\n",
        "set2 = {\"google\", \"cyber\", \"aid\"}\n",
        "\n",
        "set3 = set1.symmetric_difference(set2)\n",
        "\n",
        "print(set3)"
      ],
      "metadata": {
        "colab": {
          "base_uri": "https://localhost:8080/"
        },
        "id": "SQICRDToZV-u",
        "outputId": "444fcfdb-a792-499b-a97c-0ae2a592ef85"
      },
      "execution_count": null,
      "outputs": [
        {
          "output_type": "stream",
          "name": "stdout",
          "text": [
            "{'csm', 'google', 'cyber'}\n"
          ]
        }
      ]
    },
    {
      "cell_type": "markdown",
      "source": [
        "DICTIONARIES\n",
        "* Dict are used to store data values in key : value pairs\n",
        "* it is denoteed  by curly brackets"
      ],
      "metadata": {
        "id": "yhENM5RiaGOH"
      }
    },
    {
      "cell_type": "code",
      "source": [
        "thisdict = {\n",
        "  \"name\": \"pooja\",\n",
        "  \"branch\": \"cai\",\n",
        "  \"roll\": 4349\n",
        "}\n",
        "print(thisdict)"
      ],
      "metadata": {
        "colab": {
          "base_uri": "https://localhost:8080/"
        },
        "id": "0p2qNMECaLjq",
        "outputId": "dd04a11c-e8ae-49ab-9178-da00cf31928e"
      },
      "execution_count": null,
      "outputs": [
        {
          "output_type": "stream",
          "name": "stdout",
          "text": [
            "{'name': 'pooja', 'branch': 'cai', 'roll': 4349}\n"
          ]
        }
      ]
    },
    {
      "cell_type": "markdown",
      "source": [
        "Dictionary items"
      ],
      "metadata": {
        "id": "d2FRAbKBcMkq"
      }
    },
    {
      "cell_type": "code",
      "source": [
        "thisdict={\n",
        "    \"name\":\"pooja\",\n",
        "    \"branch\":\"cai\",\n",
        "    \"roll\":\"4349\"\n",
        "}\n",
        "print(thisdict[\"name\"])"
      ],
      "metadata": {
        "colab": {
          "base_uri": "https://localhost:8080/"
        },
        "id": "jEqBUnLhcON7",
        "outputId": "297aa12d-4e23-45df-fbe0-ced297412d96"
      },
      "execution_count": null,
      "outputs": [
        {
          "output_type": "stream",
          "name": "stdout",
          "text": [
            "pooja\n"
          ]
        }
      ]
    },
    {
      "cell_type": "markdown",
      "source": [
        "Duplicates not allowed"
      ],
      "metadata": {
        "id": "YjM_KfQEc7HW"
      }
    },
    {
      "cell_type": "code",
      "source": [
        "thisdict = {\n",
        "  \"name\": \"pooja\",\n",
        "  \"branch\": \"cai\",\n",
        "  \"roll\": 4349,\n",
        "  \"roll\":4348\n",
        "\n",
        "}\n",
        "print(thisdict)"
      ],
      "metadata": {
        "colab": {
          "base_uri": "https://localhost:8080/"
        },
        "id": "qc0p38vAc-Lg",
        "outputId": "255176de-397d-4448-8718-6625a8cd452c"
      },
      "execution_count": null,
      "outputs": [
        {
          "output_type": "stream",
          "name": "stdout",
          "text": [
            "{'name': 'pooja', 'branch': 'cai', 'roll': 4348}\n"
          ]
        }
      ]
    },
    {
      "cell_type": "markdown",
      "source": [
        "lenght of Dictionary"
      ],
      "metadata": {
        "id": "CsKbEBUYdLTj"
      }
    },
    {
      "cell_type": "code",
      "source": [
        "thisdict = {\n",
        "  \"name\": \"pooja\",\n",
        "  \"branch\": \"cai\",\n",
        "  \"roll\": 4349,\n",
        "  \"age\":19\n",
        "\n",
        "}\n",
        "print(len(thisdict))\n"
      ],
      "metadata": {
        "colab": {
          "base_uri": "https://localhost:8080/"
        },
        "id": "IRS_JUvXdNNq",
        "outputId": "2141440d-136b-49a7-8617-035f08c00dd2"
      },
      "execution_count": null,
      "outputs": [
        {
          "output_type": "stream",
          "name": "stdout",
          "text": [
            "4\n"
          ]
        }
      ]
    },
    {
      "cell_type": "markdown",
      "source": [
        "Accessing items"
      ],
      "metadata": {
        "id": "qagFZknPc_vI"
      }
    },
    {
      "cell_type": "code",
      "source": [
        "thisdict = {\n",
        "  \"name\": \"pooja\",\n",
        "  \"branch\": \"cai\",\n",
        "  \"roll\": 4349,\n",
        "  \"age\":19\n",
        "}\n",
        "x = thisdict.get(\"roll\")\n",
        "print(x)\n",
        "\n",
        "\n"
      ],
      "metadata": {
        "colab": {
          "base_uri": "https://localhost:8080/"
        },
        "id": "GC7xSw9-dCeH",
        "outputId": "29951830-befb-4a41-9f24-ae7297a98ac3"
      },
      "execution_count": null,
      "outputs": [
        {
          "output_type": "stream",
          "name": "stdout",
          "text": [
            "4349\n"
          ]
        }
      ]
    },
    {
      "cell_type": "markdown",
      "source": [
        "Get keys"
      ],
      "metadata": {
        "id": "i9x5V6G3deZ5"
      }
    },
    {
      "cell_type": "code",
      "source": [
        "thisdict = {\n",
        "  \"name\": \"pooja\",\n",
        "  \"branch\": \"cai\",\n",
        "  \"roll\": 4349,\n",
        "  \"age\":19\n",
        "}\n",
        "x = thisdict.keys()\n",
        "\n",
        "print(x)"
      ],
      "metadata": {
        "colab": {
          "base_uri": "https://localhost:8080/"
        },
        "id": "QJNB5Xexdy53",
        "outputId": "ca50c0d9-8478-4bd5-d9ab-085a74a0dab8"
      },
      "execution_count": null,
      "outputs": [
        {
          "output_type": "stream",
          "name": "stdout",
          "text": [
            "dict_keys(['name', 'branch', 'roll', 'age'])\n"
          ]
        }
      ]
    },
    {
      "cell_type": "markdown",
      "source": [
        "Get values"
      ],
      "metadata": {
        "id": "3S9FEUAWeOni"
      }
    },
    {
      "cell_type": "code",
      "source": [
        "thisdict = {\n",
        "  \"name\": \"pooja\",\n",
        "  \"branch\": \"cai\",\n",
        "  \"roll\": 4349,\n",
        "  \"age\":19\n",
        "}\n",
        "x = thisdict.values()\n",
        "\n",
        "print(x)"
      ],
      "metadata": {
        "colab": {
          "base_uri": "https://localhost:8080/"
        },
        "id": "1fj_bGrQeQlW",
        "outputId": "c3a9a67f-9255-4ca1-9ea1-6cb5ee0af976"
      },
      "execution_count": null,
      "outputs": [
        {
          "output_type": "stream",
          "name": "stdout",
          "text": [
            "dict_values(['pooja', 'cai', 4349, 19])\n"
          ]
        }
      ]
    },
    {
      "cell_type": "markdown",
      "source": [
        "Get items"
      ],
      "metadata": {
        "id": "Sf3T6mS-ehT8"
      }
    },
    {
      "cell_type": "code",
      "source": [
        "thisdict = {\n",
        "  \"name\": \"pooja\",\n",
        "  \"branch\": \"cai\",\n",
        "  \"roll\": 4349,\n",
        "  \"age\":19\n",
        "}\n",
        "x = thisdict.items()\n",
        "print(x)"
      ],
      "metadata": {
        "colab": {
          "base_uri": "https://localhost:8080/"
        },
        "id": "iK5STwQ8ejBC",
        "outputId": "87a8182c-4c7d-4157-a95d-b507862aca19"
      },
      "execution_count": null,
      "outputs": [
        {
          "output_type": "stream",
          "name": "stdout",
          "text": [
            "dict_items([('name', 'pooja'), ('branch', 'cai'), ('roll', 4349), ('age', 19)])\n"
          ]
        }
      ]
    },
    {
      "cell_type": "markdown",
      "source": [
        "Chnage values"
      ],
      "metadata": {
        "id": "R2WRgwhre_PD"
      }
    },
    {
      "cell_type": "code",
      "source": [
        "thisdict = {\n",
        "  \"name\": \"pooja\",\n",
        "  \"branch\": \"cai\",\n",
        "  \"roll\": 4349,\n",
        "  \"age\":19\n",
        "}\n",
        "\n",
        "thisdict[\"year\"] = 2006\n",
        "\n",
        "print(thisdict)\n"
      ],
      "metadata": {
        "colab": {
          "base_uri": "https://localhost:8080/"
        },
        "id": "WNslkfehfFsT",
        "outputId": "2f09a4e5-ca72-49b3-ec7c-9c974912cb52"
      },
      "execution_count": null,
      "outputs": [
        {
          "output_type": "stream",
          "name": "stdout",
          "text": [
            "{'name': 'pooja', 'branch': 'cai', 'roll': 4349, 'age': 19, 'year': 2006}\n"
          ]
        }
      ]
    },
    {
      "cell_type": "markdown",
      "source": [
        "update Dictionary"
      ],
      "metadata": {
        "id": "pg5whsJcfYEG"
      }
    },
    {
      "cell_type": "code",
      "source": [
        "thisdict = {\n",
        "  \"name\": \"pooja\",\n",
        "  \"branch\": \"cai\",\n",
        "  \"roll\": 4349,\n",
        "  \"age\":19\n",
        "}\n",
        "thisdict.update({\"year\": 2007})\n",
        "\n",
        "print(thisdict)\n",
        "\n"
      ],
      "metadata": {
        "colab": {
          "base_uri": "https://localhost:8080/"
        },
        "id": "nG6TFp2bfcaP",
        "outputId": "8900e7f4-5f7b-49a5-9844-3459c917ed9f"
      },
      "execution_count": null,
      "outputs": [
        {
          "output_type": "stream",
          "name": "stdout",
          "text": [
            "{'name': 'pooja', 'branch': 'cai', 'roll': 4349, 'age': 19, 'year': 2007}\n"
          ]
        }
      ]
    },
    {
      "cell_type": "markdown",
      "source": [
        "Adding items"
      ],
      "metadata": {
        "id": "VzkKCO94f7Jb"
      }
    },
    {
      "cell_type": "code",
      "source": [
        "thisdict = {\n",
        "  \"name\": \"pooja\",\n",
        "  \"branch\": \"cai\",\n",
        "  \"roll\": 4349,\n",
        "  \"age\":19\n",
        "}\n",
        "thisdict[\"college\"] = \"kiew\"\n",
        "print(thisdict)\n"
      ],
      "metadata": {
        "colab": {
          "base_uri": "https://localhost:8080/"
        },
        "id": "hpgO909Of-P4",
        "outputId": "db8783c4-e2f3-40cb-ae04-bf5ec1ee04aa"
      },
      "execution_count": null,
      "outputs": [
        {
          "output_type": "stream",
          "name": "stdout",
          "text": [
            "{'name': 'pooja', 'branch': 'cai', 'roll': 4349, 'age': 19, 'college': 'kiew'}\n"
          ]
        }
      ]
    },
    {
      "cell_type": "markdown",
      "source": [
        "update Dictionary"
      ],
      "metadata": {
        "id": "uWSy2nJngLtV"
      }
    },
    {
      "cell_type": "code",
      "source": [
        "thisdict = {\n",
        "  \"name\": \"pooja\",\n",
        "  \"branch\": \"cai\",\n",
        "  \"roll\": 4349,\n",
        "  \"age\":19\n",
        "}\n",
        "thisdict.update({\"college\": \"kiew\"})\n",
        "\n",
        "print(thisdict)\n"
      ],
      "metadata": {
        "colab": {
          "base_uri": "https://localhost:8080/"
        },
        "id": "m1CpTZzLgNKD",
        "outputId": "49939a97-5398-4a86-ab7e-71e63f7fccb8"
      },
      "execution_count": null,
      "outputs": [
        {
          "output_type": "stream",
          "name": "stdout",
          "text": [
            "{'name': 'pooja', 'branch': 'cai', 'roll': 4349, 'age': 19, 'college': 'kiew'}\n"
          ]
        }
      ]
    },
    {
      "cell_type": "markdown",
      "source": [
        "Removing items"
      ],
      "metadata": {
        "id": "I-9ld-Q-gbCj"
      }
    },
    {
      "cell_type": "code",
      "source": [
        "thisdict = {\n",
        "  \"name\": \"pooja\",\n",
        "  \"branch\": \"cai\",\n",
        "  \"roll\": 4349,\n",
        "  \"age\":19\n",
        "}\n",
        "thisdict.pop(\"age\")\n",
        "print(thisdict)\n"
      ],
      "metadata": {
        "colab": {
          "base_uri": "https://localhost:8080/"
        },
        "id": "Np7ACzkAgdRx",
        "outputId": "54301508-8ec6-4c84-8518-3cc98eadd19f"
      },
      "execution_count": null,
      "outputs": [
        {
          "output_type": "stream",
          "name": "stdout",
          "text": [
            "{'name': 'pooja', 'branch': 'cai', 'roll': 4349}\n"
          ]
        }
      ]
    },
    {
      "cell_type": "markdown",
      "source": [
        "loop dictionaries"
      ],
      "metadata": {
        "id": "FyTbVW_ugtPG"
      }
    },
    {
      "cell_type": "code",
      "source": [
        "thisdict = {\n",
        "  \"name\": \"pooja\",\n",
        "  \"branch\": \"cai\",\n",
        "  \"roll\": 4349,\n",
        "  \"age\":19\n",
        "}\n",
        "for x in thisdict:\n",
        "  print(x)\n"
      ],
      "metadata": {
        "colab": {
          "base_uri": "https://localhost:8080/"
        },
        "id": "WtLA7QMShCAO",
        "outputId": "fd3b9c0d-146c-4037-f877-1ea3fa8b6a7d"
      },
      "execution_count": null,
      "outputs": [
        {
          "output_type": "stream",
          "name": "stdout",
          "text": [
            "name\n",
            "branch\n",
            "roll\n",
            "age\n"
          ]
        }
      ]
    },
    {
      "cell_type": "markdown",
      "source": [
        "values in dictionaries"
      ],
      "metadata": {
        "id": "Zy8o0smwhQ0p"
      }
    },
    {
      "cell_type": "code",
      "source": [
        "thisdict = {\n",
        "  \"name\": \"pooja\",\n",
        "  \"branch\": \"cai\",\n",
        "  \"roll\": 4349,\n",
        "  \"age\":19\n",
        "}\n",
        "for x in thisdict:\n",
        "  print(thisdict[x])\n"
      ],
      "metadata": {
        "colab": {
          "base_uri": "https://localhost:8080/"
        },
        "id": "iBOA6WSKhTrp",
        "outputId": "9b30a39f-7ee1-4806-f2a7-60fd4612299e"
      },
      "execution_count": null,
      "outputs": [
        {
          "output_type": "stream",
          "name": "stdout",
          "text": [
            "pooja\n",
            "cai\n",
            "4349\n",
            "19\n"
          ]
        }
      ]
    },
    {
      "cell_type": "markdown",
      "source": [
        "key dictionaries"
      ],
      "metadata": {
        "id": "lg48oeKkhoPP"
      }
    },
    {
      "cell_type": "code",
      "source": [
        "thisdict = {\n",
        "  \"name\": \"pooja\",\n",
        "  \"branch\": \"cai\",\n",
        "  \"roll\": 4349,\n",
        "  \"age\":19\n",
        "}\n",
        "for x in thisdict.keys():\n",
        "  print(x)"
      ],
      "metadata": {
        "colab": {
          "base_uri": "https://localhost:8080/"
        },
        "id": "OflVgc5ZhspS",
        "outputId": "04b039e0-ffff-47ac-de85-872d3b17b049"
      },
      "execution_count": null,
      "outputs": [
        {
          "output_type": "stream",
          "name": "stdout",
          "text": [
            "name\n",
            "branch\n",
            "roll\n",
            "age\n"
          ]
        }
      ]
    },
    {
      "cell_type": "markdown",
      "source": [
        "items in dictionaries"
      ],
      "metadata": {
        "id": "ii6_i10CiCGp"
      }
    },
    {
      "cell_type": "code",
      "source": [
        "thisdict = {\n",
        "  \"name\": \"pooja\",\n",
        "  \"branch\": \"cai\",\n",
        "  \"roll\": 4349,\n",
        "  \"age\":19\n",
        "}\n",
        "for x, y in thisdict.items():\n",
        "  print(x, y)"
      ],
      "metadata": {
        "colab": {
          "base_uri": "https://localhost:8080/"
        },
        "id": "scStfpOziHft",
        "outputId": "d39ff9d8-6ed1-471c-8d69-921c60150811"
      },
      "execution_count": null,
      "outputs": [
        {
          "output_type": "stream",
          "name": "stdout",
          "text": [
            "name pooja\n",
            "branch cai\n",
            "roll 4349\n",
            "age 19\n"
          ]
        }
      ]
    },
    {
      "cell_type": "markdown",
      "source": [
        "Copy a Dictionary"
      ],
      "metadata": {
        "id": "uwQe71ZViYij"
      }
    },
    {
      "cell_type": "code",
      "source": [
        "thisdict = {\n",
        "  \"name\": \"pooja\",\n",
        "  \"branch\": \"cai\",\n",
        "  \"roll\": 4349,\n",
        "  \"age\":19\n",
        "}\n",
        "mydict = thisdict.copy()\n",
        "print(mydict)\n"
      ],
      "metadata": {
        "colab": {
          "base_uri": "https://localhost:8080/"
        },
        "id": "Xj7cSIKWibaL",
        "outputId": "dfe08303-89d0-4392-c7db-d617f35000e7"
      },
      "execution_count": null,
      "outputs": [
        {
          "output_type": "stream",
          "name": "stdout",
          "text": [
            "{'name': 'pooja', 'branch': 'cai', 'roll': 4349, 'age': 19}\n"
          ]
        }
      ]
    },
    {
      "cell_type": "markdown",
      "source": [
        "Nested Dictionaries\n"
      ],
      "metadata": {
        "id": "uwBZxQPQivyf"
      }
    },
    {
      "cell_type": "code",
      "source": [
        "studentslist = {\n",
        "    \"student1\":{\n",
        "  \"name\": \"pooja\",\n",
        "  \"branch\": \"cai\",\n",
        "  \"roll\": 4349,\n",
        "  \"age\":19\n",
        "},\n",
        "    \"student2\":{\n",
        "  \"name\": \"sree\",\n",
        "  \"branch\": \"csm\",\n",
        "  \"roll\": 4348,\n",
        "  \"age\":21\n",
        "},\n",
        "    \"student3\":{\n",
        "  \"name\": \"jnana\",\n",
        "  \"branch\": \"aid\",\n",
        "  \"roll\": 4350,\n",
        "  \"age\":20\n",
        "},\n",
        "\"student4\":{\n",
        "  \"name\": \"devi\",\n",
        "  \"branch\": \"cyber\",\n",
        "  \"roll\": 4352,\n",
        "  \"age\":22\n",
        "}\n",
        "}\n",
        "print(studentslist)"
      ],
      "metadata": {
        "colab": {
          "base_uri": "https://localhost:8080/"
        },
        "id": "JC4b8xDGiyoB",
        "outputId": "198cd53d-fac7-4c83-c2fe-ea9f8f06ad98"
      },
      "execution_count": null,
      "outputs": [
        {
          "output_type": "stream",
          "name": "stdout",
          "text": [
            "{'student1': {'name': 'pooja', 'branch': 'cai', 'roll': 4349, 'age': 19}, 'student2': {'name': 'sree', 'branch': 'csm', 'roll': 4348, 'age': 21}, 'student3': {'name': 'jnana', 'branch': 'aid', 'roll': 4350, 'age': 20}, 'student4': {'name': 'devi', 'branch': 'cyber', 'roll': 4352, 'age': 22}}\n"
          ]
        }
      ]
    },
    {
      "cell_type": "markdown",
      "source": [
        "IF....ELSE"
      ],
      "metadata": {
        "id": "equDaIsuj8aN"
      }
    },
    {
      "cell_type": "markdown",
      "source": [
        "Python supports the usual logical conditions from mathematics:\n",
        "* Equals: a == b\n",
        "* Not Equals: a != b\n",
        "* Less than: a < b\n",
        "* Less than or equal to: a <= b\n",
        "* Greater than: a > b\n",
        "* Greater than or equal to: a >= b"
      ],
      "metadata": {
        "id": "Q6UbClDCkEsV"
      }
    },
    {
      "cell_type": "code",
      "source": [
        "a = 6003\n",
        "b = 300\n",
        "\n",
        "if b > a:\n",
        "  print(\"b is greater than a\")\n"
      ],
      "metadata": {
        "id": "Z62Ay0FJkX1J"
      },
      "execution_count": null,
      "outputs": []
    },
    {
      "cell_type": "markdown",
      "source": [
        "Elif"
      ],
      "metadata": {
        "id": "bQWJBXq5klT1"
      }
    },
    {
      "cell_type": "code",
      "source": [
        "a = 39\n",
        "b = 45\n",
        "if b > a:\n",
        "  print(\"b is greater than a\")\n",
        "elif a == b:\n",
        "  print(\"a and b are equal\")\n"
      ],
      "metadata": {
        "colab": {
          "base_uri": "https://localhost:8080/"
        },
        "id": "KfL-GpdTkn8x",
        "outputId": "0031bb8a-8060-4577-e47f-2dcb66dc8de3"
      },
      "execution_count": null,
      "outputs": [
        {
          "output_type": "stream",
          "name": "stdout",
          "text": [
            "b is greater than a\n"
          ]
        }
      ]
    },
    {
      "cell_type": "markdown",
      "source": [
        "else"
      ],
      "metadata": {
        "id": "OTyw7jXrkxaR"
      }
    },
    {
      "cell_type": "code",
      "source": [
        "a = 750\n",
        "b = 432\n",
        "if b > a:\n",
        "  print(\"b is greater than a\")\n",
        "elif a == b:\n",
        "  print(\"a and b are equal\")\n",
        "else:\n",
        "  print(\"a is greater than b\")\n"
      ],
      "metadata": {
        "colab": {
          "base_uri": "https://localhost:8080/"
        },
        "id": "vjw-ZppHky3d",
        "outputId": "e2dba73e-7a52-4307-8f32-a7dc1cbb647e"
      },
      "execution_count": null,
      "outputs": [
        {
          "output_type": "stream",
          "name": "stdout",
          "text": [
            "a is greater than b\n"
          ]
        }
      ]
    },
    {
      "cell_type": "markdown",
      "source": [
        "And condition"
      ],
      "metadata": {
        "id": "38UJIXGxk_z4"
      }
    },
    {
      "cell_type": "code",
      "source": [
        "a = 700\n",
        "b = 600\n",
        "c = 800\n",
        "if a > b and c > a:\n",
        "  print(\"Both conditions are True\")\n"
      ],
      "metadata": {
        "colab": {
          "base_uri": "https://localhost:8080/"
        },
        "id": "2DSaK-tvlBbL",
        "outputId": "6d72ba80-6416-449f-8bf6-64d5ac0768bb"
      },
      "execution_count": null,
      "outputs": [
        {
          "output_type": "stream",
          "name": "stdout",
          "text": [
            "Both conditions are True\n"
          ]
        }
      ]
    },
    {
      "cell_type": "markdown",
      "source": [
        "or condition"
      ],
      "metadata": {
        "id": "YFGElARBlPtC"
      }
    },
    {
      "cell_type": "code",
      "source": [
        "a = 600\n",
        "b = 100\n",
        "c = 954\n",
        "if a > b or a > c:\n",
        "  print(\"At least one of the conditions is True\")"
      ],
      "metadata": {
        "colab": {
          "base_uri": "https://localhost:8080/"
        },
        "id": "dyXDF5h-lRRv",
        "outputId": "2b8f49a9-a361-41a9-ef28-b0026f5224a3"
      },
      "execution_count": null,
      "outputs": [
        {
          "output_type": "stream",
          "name": "stdout",
          "text": [
            "At least one of the conditions is True\n"
          ]
        }
      ]
    },
    {
      "cell_type": "markdown",
      "source": [
        "Not condition"
      ],
      "metadata": {
        "id": "qPMFskHBldsU"
      }
    },
    {
      "cell_type": "code",
      "source": [
        "a = 67\n",
        "b = 98\n",
        "if not a > b:\n",
        "  print(\"a is NOT greater than b\")\n"
      ],
      "metadata": {
        "colab": {
          "base_uri": "https://localhost:8080/"
        },
        "id": "Hs_Bf8kZlfkL",
        "outputId": "542b6f6f-34f4-41fc-a219-8fcc187dde56"
      },
      "execution_count": null,
      "outputs": [
        {
          "output_type": "stream",
          "name": "stdout",
          "text": [
            "a is NOT greater than b\n"
          ]
        }
      ]
    },
    {
      "cell_type": "markdown",
      "source": [
        "Nested if"
      ],
      "metadata": {
        "id": "515WdRMhlmdC"
      }
    },
    {
      "cell_type": "code",
      "source": [
        "x = 54\n",
        "\n",
        "if x > 20:\n",
        "  print(\"Above ten,\")\n",
        "  if x > 30:\n",
        "    print(\"and also above 20!\")\n",
        "  else:\n",
        "    print(\"but not above 20.\")"
      ],
      "metadata": {
        "colab": {
          "base_uri": "https://localhost:8080/"
        },
        "id": "36Zukd80low2",
        "outputId": "db03848c-f146-4d17-923e-f3e49dfe9fed"
      },
      "execution_count": null,
      "outputs": [
        {
          "output_type": "stream",
          "name": "stdout",
          "text": [
            "Above ten,\n",
            "and also above 20!\n"
          ]
        }
      ]
    },
    {
      "cell_type": "markdown",
      "source": [
        "pass statement"
      ],
      "metadata": {
        "id": "sZsNW9lQl2hI"
      }
    },
    {
      "cell_type": "code",
      "source": [
        "a = 200\n",
        "b = 300\n",
        "\n",
        "if b > a:\n",
        "  pass\n"
      ],
      "metadata": {
        "id": "3ZFou2iyl4-k"
      },
      "execution_count": null,
      "outputs": []
    },
    {
      "cell_type": "markdown",
      "source": [
        "MATCH\n",
        "* The match statement selects one of many code blocks to be executed."
      ],
      "metadata": {
        "id": "IFT_yiaWmE0p"
      }
    },
    {
      "cell_type": "code",
      "source": [
        "day = 7\n",
        "match day:\n",
        "  case 1:\n",
        "    print(\"Monday\")\n",
        "  case 2:\n",
        "    print(\"Tuesday\")\n",
        "  case 3:\n",
        "    print(\"Wednesday\")\n",
        "  case 4:\n",
        "    print(\"Thursday\")\n",
        "  case 5:\n",
        "    print(\"Friday\")\n",
        "  case 6:\n",
        "    print(\"Saturday\")\n",
        "  case 7:\n",
        "    print(\"Sunday\")\n"
      ],
      "metadata": {
        "colab": {
          "base_uri": "https://localhost:8080/"
        },
        "id": "jL9mCwH3mKp2",
        "outputId": "8857d336-0c46-46dd-ca02-92e471e9c7c1"
      },
      "execution_count": null,
      "outputs": [
        {
          "output_type": "stream",
          "name": "stdout",
          "text": [
            "Sunday\n"
          ]
        }
      ]
    },
    {
      "cell_type": "markdown",
      "source": [
        "Default Value"
      ],
      "metadata": {
        "id": "BeAeimhgmS2m"
      }
    },
    {
      "cell_type": "code",
      "source": [
        "day = 6\n",
        "match day:\n",
        "  case 6:\n",
        "    print(\"Today is Saturday\")\n",
        "  case 7:\n",
        "    print(\"Today is Sunday\")\n",
        "  case _:\n",
        "    print(\"Looking forward to the Weekend\")"
      ],
      "metadata": {
        "colab": {
          "base_uri": "https://localhost:8080/"
        },
        "id": "FGvbAwKOmUxR",
        "outputId": "65f02970-5860-478c-97dc-fc666ba5db5b"
      },
      "execution_count": null,
      "outputs": [
        {
          "output_type": "stream",
          "name": "stdout",
          "text": [
            "Today is Saturday\n"
          ]
        }
      ]
    },
    {
      "cell_type": "markdown",
      "source": [
        "Combine Values"
      ],
      "metadata": {
        "id": "qHhlkM2AmZr0"
      }
    },
    {
      "cell_type": "code",
      "source": [
        "day = 5\n",
        "match day:\n",
        "  case 1 | 2 | 3 | 4 | 5:\n",
        "    print(\"Today is a weekday\")\n",
        "  case 6 | 7:\n",
        "    print(\"I love weekends!\")"
      ],
      "metadata": {
        "colab": {
          "base_uri": "https://localhost:8080/"
        },
        "id": "kIZEW4iumbl5",
        "outputId": "afb199a0-4072-4da5-fb7a-ea53eb250241"
      },
      "execution_count": null,
      "outputs": [
        {
          "output_type": "stream",
          "name": "stdout",
          "text": [
            "Today is a weekday\n"
          ]
        }
      ]
    },
    {
      "cell_type": "markdown",
      "source": [
        "Statements as Guards"
      ],
      "metadata": {
        "id": "MWh6wMrxmhFf"
      }
    },
    {
      "cell_type": "code",
      "source": [
        "month = 4\n",
        "day = 7\n",
        "match day:\n",
        "  case 1 | 2 | 3 | 4 | 5 if month == 4:\n",
        "    print(\"A weekday in April\")\n",
        "  case 1 | 2 | 3 | 4 | 5 if month == 5:\n",
        "    print(\"A weekday in May\")\n",
        "  case _:\n",
        "    print(\"No match\")\n"
      ],
      "metadata": {
        "colab": {
          "base_uri": "https://localhost:8080/"
        },
        "id": "w15L_qL6mkAv",
        "outputId": "0ff9401e-27a9-4608-d1c2-a70b6d1c3f0a"
      },
      "execution_count": null,
      "outputs": [
        {
          "output_type": "stream",
          "name": "stdout",
          "text": [
            "No match\n"
          ]
        }
      ]
    },
    {
      "cell_type": "markdown",
      "source": [
        "DAY 2"
      ],
      "metadata": {
        "id": "L0Iuf9nz7B2Y"
      }
    },
    {
      "cell_type": "markdown",
      "source": [
        "LOOPS\n",
        "* while loops\n",
        "* for loops"
      ],
      "metadata": {
        "id": "krdRqOo5v0f5"
      }
    },
    {
      "cell_type": "markdown",
      "source": [
        "While loop\n",
        "Print numbers from 1 to 5"
      ],
      "metadata": {
        "id": "3DPvr-W2v-bB"
      }
    },
    {
      "cell_type": "code",
      "source": [
        "i = 1\n",
        "while i <= 5:\n",
        "    print(i)\n",
        "    i += 1\n"
      ],
      "metadata": {
        "colab": {
          "base_uri": "https://localhost:8080/"
        },
        "id": "uDYhwLo9wAjM",
        "outputId": "847da641-bef3-45e4-c079-39b6cc0d5ff6"
      },
      "execution_count": null,
      "outputs": [
        {
          "output_type": "stream",
          "name": "stdout",
          "text": [
            "1\n",
            "2\n",
            "3\n",
            "4\n",
            "5\n"
          ]
        }
      ]
    },
    {
      "cell_type": "markdown",
      "source": [
        "Sum of first n natural numbers\n",
        "\n"
      ],
      "metadata": {
        "id": "b9qC4UhdxCKK"
      }
    },
    {
      "cell_type": "code",
      "source": [
        "n = 5\n",
        "i = 1\n",
        "total = 0\n",
        "while i <= n:\n",
        "    total += i\n",
        "    i += 1\n",
        "print(\"Sum:\", total)\n"
      ],
      "metadata": {
        "colab": {
          "base_uri": "https://localhost:8080/"
        },
        "id": "j7bh457fxFOB",
        "outputId": "4677dc0f-3ab1-4c2b-e525-ec2ff513e351"
      },
      "execution_count": null,
      "outputs": [
        {
          "output_type": "stream",
          "name": "stdout",
          "text": [
            "Sum: 15\n"
          ]
        }
      ]
    },
    {
      "cell_type": "markdown",
      "source": [
        "Normal triangle using *"
      ],
      "metadata": {
        "id": "0EUKKXdQxxWB"
      }
    },
    {
      "cell_type": "code",
      "source": [
        "i = 1\n",
        "while i <= 5:\n",
        "    print('*' * i)\n",
        "    i += 1\n"
      ],
      "metadata": {
        "colab": {
          "base_uri": "https://localhost:8080/"
        },
        "id": "o9I9HREux1WP",
        "outputId": "426e7c62-68d4-4fc1-b551-65cf400f97e3"
      },
      "execution_count": null,
      "outputs": [
        {
          "output_type": "stream",
          "name": "stdout",
          "text": [
            "*\n",
            "**\n",
            "***\n",
            "****\n",
            "*****\n"
          ]
        }
      ]
    },
    {
      "cell_type": "markdown",
      "source": [
        "triangle reverse order"
      ],
      "metadata": {
        "id": "O7ZLz8H2x-22"
      }
    },
    {
      "cell_type": "code",
      "source": [
        "i = 5\n",
        "while i >= 1:\n",
        "    print('*' * i)\n",
        "    i -= 1\n"
      ],
      "metadata": {
        "colab": {
          "base_uri": "https://localhost:8080/"
        },
        "id": "H9h2oaeWyFPa",
        "outputId": "d53c67a2-f716-4fbe-9940-3a632873e906"
      },
      "execution_count": null,
      "outputs": [
        {
          "output_type": "stream",
          "name": "stdout",
          "text": [
            "*****\n",
            "****\n",
            "***\n",
            "**\n",
            "*\n"
          ]
        }
      ]
    },
    {
      "cell_type": "markdown",
      "source": [
        "BREAK STATEMENT\n",
        "* break stops the loop immediately when a condition is true."
      ],
      "metadata": {
        "id": "PjHc58ozyOYS"
      }
    },
    {
      "cell_type": "code",
      "source": [
        "i = 1\n",
        "while i <= 10:\n",
        "    if i == 5:\n",
        "        break\n",
        "    print(i)\n",
        "    i += 1\n"
      ],
      "metadata": {
        "colab": {
          "base_uri": "https://localhost:8080/"
        },
        "id": "LJ5GzYazyok3",
        "outputId": "59de0a13-f12a-4b13-b3b0-847a99132cc6"
      },
      "execution_count": null,
      "outputs": [
        {
          "output_type": "stream",
          "name": "stdout",
          "text": [
            "1\n",
            "2\n",
            "3\n",
            "4\n"
          ]
        }
      ]
    },
    {
      "cell_type": "markdown",
      "source": [
        "Break in a for loop"
      ],
      "metadata": {
        "id": "vhBBmoXPy10Q"
      }
    },
    {
      "cell_type": "code",
      "source": [
        "for i in range(1, 10):\n",
        "    if i == 6:\n",
        "        break\n",
        "    print(i)\n"
      ],
      "metadata": {
        "colab": {
          "base_uri": "https://localhost:8080/"
        },
        "id": "TF_r7svly90i",
        "outputId": "a873ddb6-2ac6-4519-c1f5-51048c8833dd"
      },
      "execution_count": null,
      "outputs": [
        {
          "output_type": "stream",
          "name": "stdout",
          "text": [
            "1\n",
            "2\n",
            "3\n",
            "4\n",
            "5\n"
          ]
        }
      ]
    },
    {
      "cell_type": "markdown",
      "source": [
        "Break in a loop to  the first even number"
      ],
      "metadata": {
        "id": "mZsoexVBzHHk"
      }
    },
    {
      "cell_type": "code",
      "source": [
        "numbers = [1, 3, 5, 8, 9, 10]\n",
        "for n in numbers:\n",
        "    if n % 2 == 0:\n",
        "        print(\"First even number:\", n)\n",
        "        break\n"
      ],
      "metadata": {
        "colab": {
          "base_uri": "https://localhost:8080/"
        },
        "id": "1USWQy3_zQGR",
        "outputId": "21c47902-85d2-48dd-9545-b292b27d948d"
      },
      "execution_count": null,
      "outputs": [
        {
          "output_type": "stream",
          "name": "stdout",
          "text": [
            "First even number: 8\n"
          ]
        }
      ]
    },
    {
      "cell_type": "markdown",
      "source": [
        "CONTINUE STATEMENT\n",
        "* It is used to avoid running part of the loop when a condition is true.\n"
      ],
      "metadata": {
        "id": "FSEysSmTzYLi"
      }
    },
    {
      "cell_type": "code",
      "source": [
        "i = 1\n",
        "while i <= 7:\n",
        "    if i == 5:\n",
        "        i += 1\n",
        "        continue\n",
        "    print(i)\n",
        "    i += 1\n"
      ],
      "metadata": {
        "colab": {
          "base_uri": "https://localhost:8080/"
        },
        "id": "b0y6UiiWzvIy",
        "outputId": "4e1a33de-8c67-45cc-9ec9-768041ff68a9"
      },
      "execution_count": null,
      "outputs": [
        {
          "output_type": "stream",
          "name": "stdout",
          "text": [
            "1\n",
            "2\n",
            "3\n",
            "4\n",
            "6\n",
            "7\n"
          ]
        }
      ]
    },
    {
      "cell_type": "markdown",
      "source": [
        " skip even numbers"
      ],
      "metadata": {
        "id": "x-3oidmqz2e3"
      }
    },
    {
      "cell_type": "code",
      "source": [
        "for i in range(1, 6):\n",
        "    if i % 2 == 0:\n",
        "        continue\n",
        "    print(i)\n"
      ],
      "metadata": {
        "colab": {
          "base_uri": "https://localhost:8080/"
        },
        "id": "7PNgz6yKz4NW",
        "outputId": "5bba3dfb-6417-4154-fd33-c989e7833567"
      },
      "execution_count": null,
      "outputs": [
        {
          "output_type": "stream",
          "name": "stdout",
          "text": [
            "1\n",
            "3\n",
            "5\n"
          ]
        }
      ]
    },
    {
      "cell_type": "markdown",
      "source": [
        "ELSE STATEMENT\n",
        "* else runs after the loop ends without using break."
      ],
      "metadata": {
        "id": "hUpPC0QN0CIv"
      }
    },
    {
      "cell_type": "code",
      "source": [
        "for i in range(5):\n",
        "    if i == 3:\n",
        "        break\n",
        "    print(i)\n",
        "else:\n",
        "    print(\"Loop completed!\")\n"
      ],
      "metadata": {
        "colab": {
          "base_uri": "https://localhost:8080/"
        },
        "id": "Osl673wS02mQ",
        "outputId": "d24df98e-b2fe-4570-ffc3-b6add6d7a953"
      },
      "execution_count": null,
      "outputs": [
        {
          "output_type": "stream",
          "name": "stdout",
          "text": [
            "0\n",
            "1\n",
            "2\n"
          ]
        }
      ]
    },
    {
      "cell_type": "markdown",
      "source": [
        "for loop with else"
      ],
      "metadata": {
        "id": "NLdzM7GP1DJH"
      }
    },
    {
      "cell_type": "code",
      "source": [
        "for i in range(3):\n",
        "    print(i)\n",
        "else:\n",
        "    print(\"For loop done!\")\n"
      ],
      "metadata": {
        "colab": {
          "base_uri": "https://localhost:8080/"
        },
        "id": "obrUELKu1FzZ",
        "outputId": "d355cd75-0eaf-4023-be8a-b16aac683315"
      },
      "execution_count": null,
      "outputs": [
        {
          "output_type": "stream",
          "name": "stdout",
          "text": [
            "0\n",
            "1\n",
            "2\n",
            "For loop done!\n"
          ]
        }
      ]
    },
    {
      "cell_type": "markdown",
      "source": [
        "FOR LOOPS\n",
        "* for loop runs code again and again for each value."
      ],
      "metadata": {
        "id": "aRHnz4p41pCW"
      }
    },
    {
      "cell_type": "markdown",
      "source": [
        " Print numbers from 1 to 5"
      ],
      "metadata": {
        "id": "snq3ey3h2EJz"
      }
    },
    {
      "cell_type": "code",
      "source": [
        "for i in range(1, 6):\n",
        "    print(i)\n"
      ],
      "metadata": {
        "colab": {
          "base_uri": "https://localhost:8080/"
        },
        "id": "5-NuHxGv2FMK",
        "outputId": "db55805a-cb68-416f-8953-036dc893c5d9"
      },
      "execution_count": null,
      "outputs": [
        {
          "output_type": "stream",
          "name": "stdout",
          "text": [
            "1\n",
            "2\n",
            "3\n",
            "4\n",
            "5\n"
          ]
        }
      ]
    },
    {
      "cell_type": "markdown",
      "source": [
        "Print each letter in a word"
      ],
      "metadata": {
        "id": "0XCp4z9K2J5T"
      }
    },
    {
      "cell_type": "code",
      "source": [
        "for letter in \"Pooja\":\n",
        "    print(letter)\n"
      ],
      "metadata": {
        "colab": {
          "base_uri": "https://localhost:8080/"
        },
        "id": "k9L1DfRk2KtT",
        "outputId": "9fcee056-5db3-4b73-a183-af743086f435"
      },
      "execution_count": null,
      "outputs": [
        {
          "output_type": "stream",
          "name": "stdout",
          "text": [
            "P\n",
            "o\n",
            "o\n",
            "j\n",
            "a\n"
          ]
        }
      ]
    },
    {
      "cell_type": "markdown",
      "source": [
        "Print even numbers from 1 to 10"
      ],
      "metadata": {
        "id": "GTrtGgtZ2N9a"
      }
    },
    {
      "cell_type": "code",
      "source": [
        "for i in range(1, 11):\n",
        "    if i % 2 == 0:\n",
        "        print(i)\n"
      ],
      "metadata": {
        "colab": {
          "base_uri": "https://localhost:8080/"
        },
        "id": "BXxRErJo2P4D",
        "outputId": "7cabf5ec-0ccc-4095-9597-07094f491a30"
      },
      "execution_count": null,
      "outputs": [
        {
          "output_type": "stream",
          "name": "stdout",
          "text": [
            "2\n",
            "4\n",
            "6\n",
            "8\n",
            "10\n"
          ]
        }
      ]
    },
    {
      "cell_type": "markdown",
      "source": [
        "Loop through a string"
      ],
      "metadata": {
        "id": "SFAdjAos2VaP"
      }
    },
    {
      "cell_type": "code",
      "source": [
        "text = \"sree\"\n",
        "for char in text:\n",
        "    print(char)\n"
      ],
      "metadata": {
        "colab": {
          "base_uri": "https://localhost:8080/"
        },
        "id": "lSxj6RPN2byj",
        "outputId": "3c3973bd-5ff7-4c8d-ee73-3b6c5972dfef"
      },
      "execution_count": null,
      "outputs": [
        {
          "output_type": "stream",
          "name": "stdout",
          "text": [
            "s\n",
            "r\n",
            "e\n",
            "e\n"
          ]
        }
      ]
    },
    {
      "cell_type": "markdown",
      "source": [
        "Break statement in for loop"
      ],
      "metadata": {
        "id": "bRzjLEi_26Gt"
      }
    },
    {
      "cell_type": "code",
      "source": [
        "for i in range(1, 6):\n",
        "    if i == 3:\n",
        "        break\n",
        "    print(i)\n"
      ],
      "metadata": {
        "colab": {
          "base_uri": "https://localhost:8080/"
        },
        "id": "Rgt1cmsW2-cn",
        "outputId": "51298c51-a439-4b70-b354-a194c0e9556e"
      },
      "execution_count": null,
      "outputs": [
        {
          "output_type": "stream",
          "name": "stdout",
          "text": [
            "1\n",
            "2\n"
          ]
        }
      ]
    },
    {
      "cell_type": "markdown",
      "source": [
        " Break when a number is divisible by 7"
      ],
      "metadata": {
        "id": "6-279aNS3oIt"
      }
    },
    {
      "cell_type": "code",
      "source": [
        "for i in range(1, 20):\n",
        "    if i % 7 == 0:\n",
        "        print(\"Divisible by 7:\", i)\n",
        "        break\n",
        "    print(i)\n"
      ],
      "metadata": {
        "colab": {
          "base_uri": "https://localhost:8080/"
        },
        "id": "yfaK3WGE3pR8",
        "outputId": "c0beff8a-5741-4491-cb16-d168fe6e3b6a"
      },
      "execution_count": null,
      "outputs": [
        {
          "output_type": "stream",
          "name": "stdout",
          "text": [
            "1\n",
            "2\n",
            "3\n",
            "4\n",
            "5\n",
            "6\n",
            "Divisible by 7: 7\n"
          ]
        }
      ]
    },
    {
      "cell_type": "markdown",
      "source": [
        "Continue in for loop"
      ],
      "metadata": {
        "id": "NgeYeyaA32IT"
      }
    },
    {
      "cell_type": "markdown",
      "source": [
        "Skip number 5"
      ],
      "metadata": {
        "id": "PB6CX9fU4CML"
      }
    },
    {
      "cell_type": "code",
      "source": [
        "for i in range(1, 6):\n",
        "    if i == 5:\n",
        "        continue\n",
        "    print(i)\n"
      ],
      "metadata": {
        "colab": {
          "base_uri": "https://localhost:8080/"
        },
        "id": "r9IuUPQw4Fgc",
        "outputId": "fa86ff07-0745-4c42-87e6-cc8f33519107"
      },
      "execution_count": null,
      "outputs": [
        {
          "output_type": "stream",
          "name": "stdout",
          "text": [
            "1\n",
            "2\n",
            "3\n",
            "4\n"
          ]
        }
      ]
    },
    {
      "cell_type": "markdown",
      "source": [
        "Skip names that start with 'A'\n",
        "\n"
      ],
      "metadata": {
        "id": "4J0FZE7j4Siy"
      }
    },
    {
      "cell_type": "code",
      "source": [
        "names = [\"Anjali\", \"sree\", \"Asha\", \"Pooja\"]\n",
        "for name in names:\n",
        "    if name.startswith(\"A\"):\n",
        "        continue\n",
        "    print(name)\n"
      ],
      "metadata": {
        "colab": {
          "base_uri": "https://localhost:8080/"
        },
        "id": "PxJ4jImQ4Uf3",
        "outputId": "22b44db6-ed34-4214-9a4e-ebd5c0de5995"
      },
      "execution_count": null,
      "outputs": [
        {
          "output_type": "stream",
          "name": "stdout",
          "text": [
            "sree\n",
            "Pooja\n"
          ]
        }
      ]
    },
    {
      "cell_type": "markdown",
      "source": [
        "Range function in for loop"
      ],
      "metadata": {
        "id": "bjKi5Chf4gmD"
      }
    },
    {
      "cell_type": "code",
      "source": [
        "for i in range(5):\n",
        "    print(i)\n"
      ],
      "metadata": {
        "colab": {
          "base_uri": "https://localhost:8080/"
        },
        "id": "l-GoMP7C4mlJ",
        "outputId": "11d1e747-cedc-4b8a-c08a-37ca967a3625"
      },
      "execution_count": null,
      "outputs": [
        {
          "output_type": "stream",
          "name": "stdout",
          "text": [
            "0\n",
            "1\n",
            "2\n",
            "3\n",
            "4\n"
          ]
        }
      ]
    },
    {
      "cell_type": "markdown",
      "source": [
        "Reverse counting using negative step\n",
        "\n"
      ],
      "metadata": {
        "id": "2Z2hqex35Dzf"
      }
    },
    {
      "cell_type": "code",
      "source": [
        "for i in range(5, 0, -1):\n",
        "    print(i)\n"
      ],
      "metadata": {
        "colab": {
          "base_uri": "https://localhost:8080/"
        },
        "id": "yGB6qmmn5JuG",
        "outputId": "b68663f6-02bb-4316-98c7-10ebd7393b4a"
      },
      "execution_count": null,
      "outputs": [
        {
          "output_type": "stream",
          "name": "stdout",
          "text": [
            "5\n",
            "4\n",
            "3\n",
            "2\n",
            "1\n"
          ]
        }
      ]
    },
    {
      "cell_type": "markdown",
      "source": [
        "Else in For Loop"
      ],
      "metadata": {
        "id": "JUwd2ICa5NY-"
      }
    },
    {
      "cell_type": "code",
      "source": [
        "for i in range(3):\n",
        "    print(i)\n",
        "else:\n",
        "    print(\"Loop finished\")\n"
      ],
      "metadata": {
        "colab": {
          "base_uri": "https://localhost:8080/"
        },
        "id": "LSjMfA4n5Tyt",
        "outputId": "8906fed8-0049-48d4-9b20-64b09e1edb76"
      },
      "execution_count": null,
      "outputs": [
        {
          "output_type": "stream",
          "name": "stdout",
          "text": [
            "0\n",
            "1\n",
            "2\n",
            "Loop finished\n"
          ]
        }
      ]
    },
    {
      "cell_type": "markdown",
      "source": [
        " Find even number in a list"
      ],
      "metadata": {
        "id": "6NMBtfzU5iAR"
      }
    },
    {
      "cell_type": "code",
      "source": [
        "numbers = [1, 3, 5, 7]\n",
        "for num in numbers:\n",
        "    if num % 2 == 0:\n",
        "        print(\"Even number found:\", num)\n",
        "        break\n",
        "else:\n",
        "    print(\"No even number found\")\n"
      ],
      "metadata": {
        "colab": {
          "base_uri": "https://localhost:8080/"
        },
        "id": "B_SMU3WL5i66",
        "outputId": "5a706c0f-3d56-4db1-ad23-f209acf0683e"
      },
      "execution_count": null,
      "outputs": [
        {
          "output_type": "stream",
          "name": "stdout",
          "text": [
            "No even number found\n"
          ]
        }
      ]
    },
    {
      "cell_type": "markdown",
      "source": [
        "Searching in a string"
      ],
      "metadata": {
        "id": "vzvEL7TU5oAH"
      }
    },
    {
      "cell_type": "code",
      "source": [
        "text = \"pooja\"\n",
        "for ch in text:\n",
        "    if ch == 'z':\n",
        "        print(\"Found z\")\n",
        "        break\n",
        "else:\n",
        "    print(\"z not found in text\")\n"
      ],
      "metadata": {
        "colab": {
          "base_uri": "https://localhost:8080/"
        },
        "id": "vZx9BZec5o92",
        "outputId": "6e291217-54aa-4a43-ebcd-ac83d7494156"
      },
      "execution_count": null,
      "outputs": [
        {
          "output_type": "stream",
          "name": "stdout",
          "text": [
            "z not found in text\n"
          ]
        }
      ]
    },
    {
      "cell_type": "markdown",
      "source": [
        "Nested Loops"
      ],
      "metadata": {
        "id": "lfTI4qak5uxv"
      }
    },
    {
      "cell_type": "code",
      "source": [
        "for i in range(1, 6):\n",
        "    for j in range(1, 6):\n",
        "        print(i * j, end=\"\\t\")\n",
        "    print()\n"
      ],
      "metadata": {
        "colab": {
          "base_uri": "https://localhost:8080/"
        },
        "id": "6Xb_y3Tb5wJY",
        "outputId": "8367685f-bc77-4d62-dffd-3382d41b88f7"
      },
      "execution_count": null,
      "outputs": [
        {
          "output_type": "stream",
          "name": "stdout",
          "text": [
            "1\t2\t3\t4\t5\t\n",
            "2\t4\t6\t8\t10\t\n",
            "3\t6\t9\t12\t15\t\n",
            "4\t8\t12\t16\t20\t\n",
            "5\t10\t15\t20\t25\t\n"
          ]
        }
      ]
    },
    {
      "cell_type": "markdown",
      "source": [
        "Triangle Pattern with Nested Loop"
      ],
      "metadata": {
        "id": "1sV5Q4_m6GHX"
      }
    },
    {
      "cell_type": "code",
      "source": [
        "for i in range(1, 6):\n",
        "    for j in range(i):\n",
        "        print(\"*\", end=\" \")\n",
        "    print()\n"
      ],
      "metadata": {
        "colab": {
          "base_uri": "https://localhost:8080/"
        },
        "id": "pxLjvai56HFf",
        "outputId": "80fe9ff8-f4bc-407f-8e9f-1c0cabc8cb6f"
      },
      "execution_count": null,
      "outputs": [
        {
          "output_type": "stream",
          "name": "stdout",
          "text": [
            "* \n",
            "* * \n",
            "* * * \n",
            "* * * * \n",
            "* * * * * \n"
          ]
        }
      ]
    },
    {
      "cell_type": "markdown",
      "source": [
        "Pass statement"
      ],
      "metadata": {
        "id": "zAyDjcUq6X83"
      }
    },
    {
      "cell_type": "code",
      "source": [
        "x = 10\n",
        "if x > 5:\n",
        "    pass  # no action yet\n",
        "print(\"Check complete\")\n"
      ],
      "metadata": {
        "colab": {
          "base_uri": "https://localhost:8080/"
        },
        "id": "NXfVV73W6aVw",
        "outputId": "24bff867-1870-449e-dafd-0d18a619759d"
      },
      "execution_count": null,
      "outputs": [
        {
          "output_type": "stream",
          "name": "stdout",
          "text": [
            "Check complete\n"
          ]
        }
      ]
    },
    {
      "cell_type": "code",
      "source": [
        "items = [\"apple\", None, \"banana\"]\n",
        "\n",
        "for item in items:\n",
        "    if item is None:\n",
        "        pass  # skip None values for now\n",
        "    else:\n",
        "        print(item)\n"
      ],
      "metadata": {
        "colab": {
          "base_uri": "https://localhost:8080/"
        },
        "id": "ctEYoypF6sYN",
        "outputId": "a99a0f6d-05f0-4678-c329-5e2977ae5567"
      },
      "execution_count": null,
      "outputs": [
        {
          "output_type": "stream",
          "name": "stdout",
          "text": [
            "apple\n",
            "banana\n"
          ]
        }
      ]
    },
    {
      "cell_type": "markdown",
      "source": [
        "DAY 3"
      ],
      "metadata": {
        "id": "z5ApG7VuMg8U"
      }
    },
    {
      "cell_type": "markdown",
      "source": [
        "FUNCTIONS\n",
        "* A function is a named block of code that can be executed when called.\n",
        "* They are defined with def and can be called by their name."
      ],
      "metadata": {
        "id": "BneEeiW7Mis_"
      }
    },
    {
      "cell_type": "markdown",
      "source": [
        "Creating a function"
      ],
      "metadata": {
        "id": "0WhwtjsYPtYb"
      }
    },
    {
      "cell_type": "code",
      "source": [
        "def my_function():\n",
        "    print(\"poojasri\")\n"
      ],
      "metadata": {
        "id": "IV-EwrJbPx5_"
      },
      "execution_count": 3,
      "outputs": []
    },
    {
      "cell_type": "markdown",
      "source": [
        "calling a function"
      ],
      "metadata": {
        "id": "n8YQoGfGSVd4"
      }
    },
    {
      "cell_type": "code",
      "source": [
        "def say_hello():\n",
        "    print(\"Hello poojasri!\")\n",
        "\n",
        "say_hello()\n"
      ],
      "metadata": {
        "id": "SAv2U-nNSbUX",
        "outputId": "645ce7d6-0dde-4cbb-d059-e60a1ee5ceb8",
        "colab": {
          "base_uri": "https://localhost:8080/"
        }
      },
      "execution_count": 4,
      "outputs": [
        {
          "output_type": "stream",
          "name": "stdout",
          "text": [
            "Hello poojasri!\n"
          ]
        }
      ]
    },
    {
      "cell_type": "code",
      "source": [
        "def multiply(a, b):\n",
        "    print(a * b)\n",
        "\n",
        "multiply(6, 4)\n"
      ],
      "metadata": {
        "id": "-4q_565TeZvr",
        "outputId": "2c3574ea-7978-4778-991b-def5ac76b79f",
        "colab": {
          "base_uri": "https://localhost:8080/"
        }
      },
      "execution_count": 5,
      "outputs": [
        {
          "output_type": "stream",
          "name": "stdout",
          "text": [
            "24\n"
          ]
        }
      ]
    },
    {
      "cell_type": "markdown",
      "source": [
        "Arguments"
      ],
      "metadata": {
        "id": "6bpXqqScetkT"
      }
    },
    {
      "cell_type": "code",
      "source": [
        "def full_name(firstname):\n",
        "    print(firstname + \" kiet\")\n",
        "\n",
        "full_name(\"sree\")\n",
        "full_name(\"jnana\")\n",
        "full_name(\"devi\")\n"
      ],
      "metadata": {
        "id": "S0bT9MFZfUO-",
        "outputId": "ff8e50b2-4917-476e-c266-783c0e3da48f",
        "colab": {
          "base_uri": "https://localhost:8080/"
        }
      },
      "execution_count": 8,
      "outputs": [
        {
          "output_type": "stream",
          "name": "stdout",
          "text": [
            "sree kiet\n",
            "jnana kiet\n",
            "devi kiet\n"
          ]
        }
      ]
    },
    {
      "cell_type": "markdown",
      "source": [
        "two arguments"
      ],
      "metadata": {
        "id": "pgcBq7xif4uR"
      }
    },
    {
      "cell_type": "code",
      "source": [
        "def student_info(name, course):\n",
        "    print(name + \" is in \" + course)\n",
        "\n",
        "student_info(\"Pooja\", \"AI\")\n",
        "student_info(\"jnana\", \"csm\")\n",
        "student_info(\"vimala\", \"aid\")\n"
      ],
      "metadata": {
        "id": "xnC744-Rf6qk",
        "outputId": "7946816b-f8a6-49c3-b021-8a04feffdba2",
        "colab": {
          "base_uri": "https://localhost:8080/"
        }
      },
      "execution_count": 9,
      "outputs": [
        {
          "output_type": "stream",
          "name": "stdout",
          "text": [
            "Pooja is in AI\n",
            "jnana is in csm\n",
            "vimala is in aid\n"
          ]
        }
      ]
    },
    {
      "cell_type": "markdown",
      "source": [
        "arguments in numbers"
      ],
      "metadata": {
        "id": "9jOs4LxcgKu-"
      }
    },
    {
      "cell_type": "code",
      "source": [
        "def square(num):\n",
        "    print(num, \"squared is\", num * num)\n",
        "\n",
        "square(7)\n",
        "square(5)\n",
        "square(10)\n"
      ],
      "metadata": {
        "id": "5CgfMurNgN-S",
        "outputId": "538aa998-fe3e-4462-c676-b84af19f62ed",
        "colab": {
          "base_uri": "https://localhost:8080/"
        }
      },
      "execution_count": 10,
      "outputs": [
        {
          "output_type": "stream",
          "name": "stdout",
          "text": [
            "7 squared is 49\n",
            "5 squared is 25\n",
            "10 squared is 100\n"
          ]
        }
      ]
    },
    {
      "cell_type": "markdown",
      "source": [
        "Arbitrary Arguments"
      ],
      "metadata": {
        "id": "NlQOzlXRgXfj"
      }
    },
    {
      "cell_type": "code",
      "source": [
        "def my_function(*toppers):\n",
        "    print(\"The first topper is \" +toppers[0])\n",
        "\n",
        "my_function(\"pooja\", \"sree\", \"sri\")\n"
      ],
      "metadata": {
        "id": "LArkBfXog7Cn",
        "outputId": "7bee0138-45ff-4e52-c0c5-098ca1f732ac",
        "colab": {
          "base_uri": "https://localhost:8080/"
        }
      },
      "execution_count": 13,
      "outputs": [
        {
          "output_type": "stream",
          "name": "stdout",
          "text": [
            "The first topper is pooja\n"
          ]
        }
      ]
    },
    {
      "cell_type": "code",
      "source": [
        "def show_students(*names):\n",
        "    print(\"Students are:\", names)\n",
        "\n",
        "show_students(\"Pooja\", \"aadhya\", \"sree\", \"Meena\")\n"
      ],
      "metadata": {
        "id": "BPW7_KxIhign",
        "outputId": "ec09e4f5-6057-476c-9253-b06f37728eb4",
        "colab": {
          "base_uri": "https://localhost:8080/"
        }
      },
      "execution_count": 15,
      "outputs": [
        {
          "output_type": "stream",
          "name": "stdout",
          "text": [
            "Students are: ('Pooja', 'aadhya', 'sree', 'Meena')\n"
          ]
        }
      ]
    },
    {
      "cell_type": "markdown",
      "source": [
        "Using arguments in a loop\n"
      ],
      "metadata": {
        "id": "1o6CyZHpihDt"
      }
    },
    {
      "cell_type": "code",
      "source": [
        "def greet_all(*friends):\n",
        "    for friend in friends:\n",
        "        print(\"Hello\", friend)\n",
        "\n",
        "greet_all(\"Ram\", \"Sita\", \"siri\")"
      ],
      "metadata": {
        "id": "n5AxsgvNix9Q",
        "outputId": "5eefb35c-5383-4e01-a65a-413d148fc4bc",
        "colab": {
          "base_uri": "https://localhost:8080/"
        }
      },
      "execution_count": 16,
      "outputs": [
        {
          "output_type": "stream",
          "name": "stdout",
          "text": [
            "Hello Ram\n",
            "Hello Sita\n",
            "Hello siri\n"
          ]
        }
      ]
    },
    {
      "cell_type": "markdown",
      "source": [
        "keyword arguments"
      ],
      "metadata": {
        "id": "T17S9geWi69s"
      }
    },
    {
      "cell_type": "code",
      "source": [
        "def my_function(child3, child2, child1):\n",
        "    print(\"The youngest child is \" + child3)\n",
        "\n",
        "my_function(child1=\"pooja\", child2=\"sree\", child3=\"santhosh\")\n"
      ],
      "metadata": {
        "id": "f7XA29iqi81s",
        "outputId": "bea7915e-3f31-4d59-c12a-7e9f26c388f7",
        "colab": {
          "base_uri": "https://localhost:8080/"
        }
      },
      "execution_count": 17,
      "outputs": [
        {
          "output_type": "stream",
          "name": "stdout",
          "text": [
            "The youngest child is santhosh\n"
          ]
        }
      ]
    },
    {
      "cell_type": "code",
      "source": [
        "def student_ranks(rank3, rank2, rank1):\n",
        "    print(\"The topper is \" + rank1)\n",
        "\n",
        "student_ranks(rank1=\"Pooja\", rank2=\"Ravi\", rank3=\"Ankitha\")\n"
      ],
      "metadata": {
        "id": "5jcaoyu0kENI",
        "outputId": "c5e144a7-ced1-4198-826f-2ba0cf8306bc",
        "colab": {
          "base_uri": "https://localhost:8080/"
        }
      },
      "execution_count": 18,
      "outputs": [
        {
          "output_type": "stream",
          "name": "stdout",
          "text": [
            "The topper is Pooja\n"
          ]
        }
      ]
    },
    {
      "cell_type": "markdown",
      "source": [
        "Arbitrary Keyword Arguments, **kwargs"
      ],
      "metadata": {
        "id": "tQkaxYUTkKVE"
      }
    },
    {
      "cell_type": "code",
      "source": [
        "def student_info(**details):\n",
        "    print(details)\n",
        "\n",
        "student_info(name=\"Pooja\", age=20, course=\"AI\")\n"
      ],
      "metadata": {
        "id": "Yr1To_0MkOLK",
        "outputId": "ac7b9978-26d9-4e05-e60e-d0df21c00a94",
        "colab": {
          "base_uri": "https://localhost:8080/"
        }
      },
      "execution_count": 19,
      "outputs": [
        {
          "output_type": "stream",
          "name": "stdout",
          "text": [
            "{'name': 'Pooja', 'age': 20, 'course': 'AI'}\n"
          ]
        }
      ]
    },
    {
      "cell_type": "code",
      "source": [
        "def print_details(**info):\n",
        "    for key, value in info.items():\n",
        "        print(key, \":\", value)\n",
        "\n",
        "print_details(Name=\"ppoja\", City=\"tanuku\", Hobby=\"Reading\")\n"
      ],
      "metadata": {
        "id": "fdflHGgvkmly",
        "outputId": "b17200fe-9f6a-4f72-a569-4d9efdd7b6f6",
        "colab": {
          "base_uri": "https://localhost:8080/"
        }
      },
      "execution_count": 20,
      "outputs": [
        {
          "output_type": "stream",
          "name": "stdout",
          "text": [
            "Name : ppoja\n",
            "City : tanuku\n",
            "Hobby : Reading\n"
          ]
        }
      ]
    },
    {
      "cell_type": "markdown",
      "source": [
        "Default Parameter Value"
      ],
      "metadata": {
        "id": "NIwMJKexkzPJ"
      }
    },
    {
      "cell_type": "code",
      "source": [
        "def greet(name=\"sree\"):\n",
        "    print(\"Hello\", name)\n",
        "\n",
        "greet()\n",
        "greet(\"Pooja\")\n"
      ],
      "metadata": {
        "id": "43eAxo2Tk2I3",
        "outputId": "79584b56-b979-4dfe-d252-987cec55bcc2",
        "colab": {
          "base_uri": "https://localhost:8080/"
        }
      },
      "execution_count": 22,
      "outputs": [
        {
          "output_type": "stream",
          "name": "stdout",
          "text": [
            "Hello sree\n",
            "Hello Pooja\n"
          ]
        }
      ]
    },
    {
      "cell_type": "markdown",
      "source": [
        "Multiple parameters with defaults"
      ],
      "metadata": {
        "id": "ZIGcMMZclRq8"
      }
    },
    {
      "cell_type": "code",
      "source": [
        "def student_info(name=\"pooja\", course=\"AI\"):\n",
        "    print(name, \"is in\", course)\n",
        "\n",
        "student_info()\n",
        "student_info(\"sri\")\n",
        "student_info(\"Ankitha\", \"CSE\")\n"
      ],
      "metadata": {
        "id": "MBKD0eyblToB",
        "outputId": "556224ab-234e-473a-c2a2-9ef0fc944ccc",
        "colab": {
          "base_uri": "https://localhost:8080/"
        }
      },
      "execution_count": 23,
      "outputs": [
        {
          "output_type": "stream",
          "name": "stdout",
          "text": [
            "pooja is in AI\n",
            "sri is in AI\n",
            "Ankitha is in CSE\n"
          ]
        }
      ]
    },
    {
      "cell_type": "markdown",
      "source": [
        "Passing a List as an Argument\n"
      ],
      "metadata": {
        "id": "-VeNVAmhmPfa"
      }
    },
    {
      "cell_type": "code",
      "source": [
        "\n",
        "def print_fruits(fruits):\n",
        "    for fruit in fruits:\n",
        "        print(fruit)\n",
        "\n",
        "my_list = [\"Apple\", \"Banana\", \"Cherry\"]\n",
        "print_fruits(my_list)\n"
      ],
      "metadata": {
        "id": "DNaqeKLemSIm",
        "outputId": "58fb3204-1504-4360-cbd8-d25666791dad",
        "colab": {
          "base_uri": "https://localhost:8080/"
        }
      },
      "execution_count": 24,
      "outputs": [
        {
          "output_type": "stream",
          "name": "stdout",
          "text": [
            "Apple\n",
            "Banana\n",
            "Cherry\n"
          ]
        }
      ]
    },
    {
      "cell_type": "markdown",
      "source": [
        "Summing numbers in a list"
      ],
      "metadata": {
        "id": "QlID81r-m50p"
      }
    },
    {
      "cell_type": "code",
      "source": [
        "def sum_list(numbers):\n",
        "    print(\"Sum is:\", sum(numbers))\n",
        "\n",
        "nums = [5, 10, 15]\n",
        "sum_list(nums)\n"
      ],
      "metadata": {
        "id": "fIobfKwgmulm",
        "outputId": "fc80775e-4c75-40aa-e89d-27feecdf2f9e",
        "colab": {
          "base_uri": "https://localhost:8080/"
        }
      },
      "execution_count": 25,
      "outputs": [
        {
          "output_type": "stream",
          "name": "stdout",
          "text": [
            "Sum is: 30\n"
          ]
        }
      ]
    },
    {
      "cell_type": "code",
      "source": [],
      "metadata": {
        "id": "l485WXlim76d"
      },
      "execution_count": null,
      "outputs": []
    },
    {
      "cell_type": "markdown",
      "source": [
        "Finding the largest number"
      ],
      "metadata": {
        "id": "OeaXfSkzmy8g"
      }
    },
    {
      "cell_type": "code",
      "source": [
        "def find_max(numbers):\n",
        "    print(\"Max number is:\", max(numbers))\n",
        "\n",
        "marks = [65, 82, 91, 74]\n",
        "find_max(marks)\n"
      ],
      "metadata": {
        "id": "coZU_wAtm1fB"
      },
      "execution_count": null,
      "outputs": []
    },
    {
      "cell_type": "markdown",
      "source": [
        "Return values"
      ],
      "metadata": {
        "id": "ifmT83EhnB1i"
      }
    },
    {
      "cell_type": "code",
      "source": [
        "def add(a, b):\n",
        "    return a + b\n",
        "\n",
        "result = add(5, 3)\n",
        "print(result)\n"
      ],
      "metadata": {
        "id": "Y1vkKM_4nDkb"
      },
      "execution_count": null,
      "outputs": []
    },
    {
      "cell_type": "markdown",
      "source": [
        "using return directly"
      ],
      "metadata": {
        "id": "L6YXvfYdnSLh"
      }
    },
    {
      "cell_type": "code",
      "source": [
        "def multiply(x, y):\n",
        "    return x * y\n",
        "\n",
        "print(multiply(4, 6))\n"
      ],
      "metadata": {
        "id": "MmAVF8mpnTp0",
        "outputId": "4ce95353-5a6c-4209-822c-3a3df2319d11",
        "colab": {
          "base_uri": "https://localhost:8080/"
        }
      },
      "execution_count": 26,
      "outputs": [
        {
          "output_type": "stream",
          "name": "stdout",
          "text": [
            "24\n"
          ]
        }
      ]
    },
    {
      "cell_type": "markdown",
      "source": [
        "Multiple returns in a function"
      ],
      "metadata": {
        "id": "V5vdLBWHna6Z"
      }
    },
    {
      "cell_type": "code",
      "source": [
        "def check_number(num):\n",
        "    if num > 0:\n",
        "        return \"Positive\"\n",
        "    elif num < 0:\n",
        "        return \"Negative\"\n",
        "    else:\n",
        "        return \"Zero\"\n",
        "\n",
        "print(check_number(5))\n",
        "print(check_number(-3))\n",
        "print(check_number(0))\n"
      ],
      "metadata": {
        "id": "p9YtocA_nch3",
        "outputId": "06633fd9-23e5-4426-ead5-35fbd4c6c9c1",
        "colab": {
          "base_uri": "https://localhost:8080/"
        }
      },
      "execution_count": 27,
      "outputs": [
        {
          "output_type": "stream",
          "name": "stdout",
          "text": [
            "Positive\n",
            "Negative\n",
            "Zero\n"
          ]
        }
      ]
    },
    {
      "cell_type": "markdown",
      "source": [
        "pass statement"
      ],
      "metadata": {
        "id": "bjrNxKZqnjvj"
      }
    },
    {
      "cell_type": "code",
      "source": [
        "def my_function():\n",
        "    pass\n",
        "\n",
        "my_function()\n",
        "print(\"Function executed\")\n"
      ],
      "metadata": {
        "id": "BYYL3HrjoANz",
        "outputId": "2704a278-2928-4943-cd4f-e0587e56a366",
        "colab": {
          "base_uri": "https://localhost:8080/"
        }
      },
      "execution_count": 29,
      "outputs": [
        {
          "output_type": "stream",
          "name": "stdout",
          "text": [
            "Function executed\n"
          ]
        }
      ]
    },
    {
      "cell_type": "code",
      "source": [
        "for i in range(3):\n",
        "    pass\n",
        "print(\"Loop finished\")\n"
      ],
      "metadata": {
        "id": "TJTY_eSCoJyW",
        "outputId": "2b9742f3-00cd-418d-87b2-057bb970566c",
        "colab": {
          "base_uri": "https://localhost:8080/"
        }
      },
      "execution_count": 30,
      "outputs": [
        {
          "output_type": "stream",
          "name": "stdout",
          "text": [
            "Loop finished\n"
          ]
        }
      ]
    },
    {
      "cell_type": "markdown",
      "source": [
        "Positional-Only Arguments"
      ],
      "metadata": {
        "id": "_AsgxqLtoSEz"
      }
    },
    {
      "cell_type": "code",
      "source": [
        "def my_function(x, y, ):\n",
        "    print(x + y)\n",
        "\n",
        "my_function(3, 4)\n",
        "my_function(x=3, y=4)\n"
      ],
      "metadata": {
        "id": "M_RFp5xXogqq",
        "outputId": "29922e09-f5d4-4027-d0df-0876e140bcc0",
        "colab": {
          "base_uri": "https://localhost:8080/"
        }
      },
      "execution_count": 31,
      "outputs": [
        {
          "output_type": "stream",
          "name": "stdout",
          "text": [
            "7\n",
            "7\n"
          ]
        }
      ]
    },
    {
      "cell_type": "code",
      "source": [
        "def details(name, age,  city):\n",
        "    print(name, age, city)\n",
        "\n",
        "details(\"Pooja\", 20, city=\"Kakinada\")\n",
        "details(name=\"Pooja\", age=20, city=\"Kakinada\")\n"
      ],
      "metadata": {
        "id": "Iqh_NszaouDO",
        "outputId": "63b0f574-6f92-470a-c5fa-6aa73982bb36",
        "colab": {
          "base_uri": "https://localhost:8080/"
        }
      },
      "execution_count": 33,
      "outputs": [
        {
          "output_type": "stream",
          "name": "stdout",
          "text": [
            "Pooja 20 Kakinada\n",
            "Pooja 20 Kakinada\n"
          ]
        }
      ]
    },
    {
      "cell_type": "markdown",
      "source": [
        "Keyword-Only Arguments"
      ],
      "metadata": {
        "id": "OC7XP2FFo-mp"
      }
    },
    {
      "cell_type": "code",
      "source": [
        "def my_function(x, y):\n",
        "    print(x + y)\n",
        "\n",
        "my_function(x=3, y=4)\n",
        "my_function(3, 4)\n"
      ],
      "metadata": {
        "id": "C0ebEmpBpAwd",
        "outputId": "9368e5a1-ef28-405e-ef79-2bade0154c85",
        "colab": {
          "base_uri": "https://localhost:8080/"
        }
      },
      "execution_count": 36,
      "outputs": [
        {
          "output_type": "stream",
          "name": "stdout",
          "text": [
            "7\n",
            "7\n"
          ]
        }
      ]
    },
    {
      "cell_type": "code",
      "source": [
        "def greet( first=\"Guest\", last=\"User\"):\n",
        "    print(f\"Hello {first} {last}\")\n",
        "\n",
        "greet(first=\"Pooja\", last=\"Sri\")\n",
        "greet(last=\"Sri\")\n",
        "greet(\"Pooja\")\n"
      ],
      "metadata": {
        "id": "G8GpIabYpTFK",
        "outputId": "b3bf7ad2-61b1-4bb0-f9ed-d43a252250f7",
        "colab": {
          "base_uri": "https://localhost:8080/"
        }
      },
      "execution_count": 38,
      "outputs": [
        {
          "output_type": "stream",
          "name": "stdout",
          "text": [
            "Hello Pooja Sri\n",
            "Hello Guest Sri\n",
            "Hello Pooja User\n"
          ]
        }
      ]
    },
    {
      "cell_type": "markdown",
      "source": [
        "Recursion"
      ],
      "metadata": {
        "id": "avnwcqJJphjW"
      }
    },
    {
      "cell_type": "code",
      "source": [
        "def my_function( x, y):\n",
        "    print(x + y)\n",
        "\n",
        "my_function(x=6, y=4)\n",
        "my_function(6, 4)\n"
      ],
      "metadata": {
        "id": "4Fa0yMzQpmO2",
        "outputId": "08f6a39e-659a-4e58-a187-899fcf584a8e",
        "colab": {
          "base_uri": "https://localhost:8080/"
        }
      },
      "execution_count": 42,
      "outputs": [
        {
          "output_type": "stream",
          "name": "stdout",
          "text": [
            "10\n",
            "10\n"
          ]
        }
      ]
    },
    {
      "cell_type": "code",
      "source": [
        "def details(name, age, city):\n",
        "    print(name, age, city)\n",
        "\n",
        "details(\"Pooja\", age=20, city=\"Kakinada\")\n",
        "details(\"Pooja\", 20, \"Kakinada\")\n"
      ],
      "metadata": {
        "id": "My8zaR4gp3SV",
        "outputId": "549d6b61-9c82-4fae-c57d-b875866b7bdb",
        "colab": {
          "base_uri": "https://localhost:8080/"
        }
      },
      "execution_count": 44,
      "outputs": [
        {
          "output_type": "stream",
          "name": "stdout",
          "text": [
            "Pooja 20 Kakinada\n",
            "Pooja 20 Kakinada\n"
          ]
        }
      ]
    },
    {
      "cell_type": "markdown",
      "source": [
        "python lambda"
      ],
      "metadata": {
        "id": "VsP--8vvqTxH"
      }
    },
    {
      "cell_type": "code",
      "source": [
        "x = lambda a: a + 10\n",
        "print(x(5))\n"
      ],
      "metadata": {
        "id": "5VCf-7nxqX1O",
        "outputId": "864bfba4-d90d-41d4-e89b-5e732ec1e651",
        "colab": {
          "base_uri": "https://localhost:8080/"
        }
      },
      "execution_count": 45,
      "outputs": [
        {
          "output_type": "stream",
          "name": "stdout",
          "text": [
            "15\n"
          ]
        }
      ]
    },
    {
      "cell_type": "code",
      "source": [
        "multiply = lambda a, b: a * b\n",
        "print(multiply(5, 6))\n"
      ],
      "metadata": {
        "id": "g8xNBRNNqn0g",
        "outputId": "ea6bf328-6589-421e-9b9d-6bcedd60a867",
        "colab": {
          "base_uri": "https://localhost:8080/"
        }
      },
      "execution_count": 46,
      "outputs": [
        {
          "output_type": "stream",
          "name": "stdout",
          "text": [
            "30\n"
          ]
        }
      ]
    },
    {
      "cell_type": "code",
      "source": [
        "add_three = lambda a, b, c: a + b + c\n",
        "print(add_three(2, 3, 4))\n"
      ],
      "metadata": {
        "id": "9yiR_Vg_qqzZ",
        "outputId": "b1d1289b-020f-47ca-d62e-96164f4e360c",
        "colab": {
          "base_uri": "https://localhost:8080/"
        }
      },
      "execution_count": 47,
      "outputs": [
        {
          "output_type": "stream",
          "name": "stdout",
          "text": [
            "9\n"
          ]
        }
      ]
    },
    {
      "cell_type": "code",
      "source": [
        "def myfunc(n):\n",
        "    return lambda a: a * n\n",
        "\n",
        "mydoubler = myfunc(2)\n",
        "mytripler = myfunc(3)\n",
        "\n",
        "print(mydoubler(11))\n",
        "print(mytripler(11))\n"
      ],
      "metadata": {
        "id": "2swFSonNq1ZH",
        "outputId": "891d3511-f195-441b-9e29-3fc264b85049",
        "colab": {
          "base_uri": "https://localhost:8080/"
        }
      },
      "execution_count": 48,
      "outputs": [
        {
          "output_type": "stream",
          "name": "stdout",
          "text": [
            "22\n",
            "33\n"
          ]
        }
      ]
    }
  ]
}